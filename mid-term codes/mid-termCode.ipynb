{
 "cells": [
  {
   "cell_type": "code",
   "execution_count": 2,
   "metadata": {},
   "outputs": [
    {
     "name": "stderr",
     "output_type": "stream",
     "text": [
      "c:\\Users\\eeb02\\.virtualenvs\\HW2-PfLazmZH\\lib\\site-packages\\tqdm\\auto.py:21: TqdmWarning: IProgress not found. Please update jupyter and ipywidgets. See https://ipywidgets.readthedocs.io/en/stable/user_install.html\n",
      "  from .autonotebook import tqdm as notebook_tqdm\n"
     ]
    }
   ],
   "source": [
    "import csv\n",
    "import pandas as pd\n",
    "# from pandas import Timestamp\n",
    "from time import mktime, strftime, strptime\n",
    "from datetime import datetime\n",
    "from tqdm.auto import tqdm, trange"
   ]
  },
  {
   "attachments": {},
   "cell_type": "markdown",
   "metadata": {},
   "source": [
    "# 1. 挑選股票紀錄\n"
   ]
  },
  {
   "attachments": {},
   "cell_type": "markdown",
   "metadata": {},
   "source": [
    "- 先讀入指定標籤中(上市櫃、年分)的紀錄，以及指定的欄位資訊"
   ]
  },
  {
   "cell_type": "code",
   "execution_count": 37,
   "metadata": {},
   "outputs": [
    {
     "data": {
      "text/html": [
       "<div>\n",
       "<style scoped>\n",
       "    .dataframe tbody tr th:only-of-type {\n",
       "        vertical-align: middle;\n",
       "    }\n",
       "\n",
       "    .dataframe tbody tr th {\n",
       "        vertical-align: top;\n",
       "    }\n",
       "\n",
       "    .dataframe thead th {\n",
       "        text-align: right;\n",
       "    }\n",
       "</style>\n",
       "<table border=\"1\" class=\"dataframe\">\n",
       "  <thead>\n",
       "    <tr style=\"text-align: right;\">\n",
       "      <th></th>\n",
       "      <th>證券代碼</th>\n",
       "      <th>年月日</th>\n",
       "      <th>收盤價(元)</th>\n",
       "      <th>成交量(千股)</th>\n",
       "    </tr>\n",
       "  </thead>\n",
       "  <tbody>\n",
       "    <tr>\n",
       "      <th>0</th>\n",
       "      <td>0050 元大台灣50</td>\n",
       "      <td>2023/03/24</td>\n",
       "      <td>122.20</td>\n",
       "      <td>13919</td>\n",
       "    </tr>\n",
       "    <tr>\n",
       "      <th>1</th>\n",
       "      <td>0051 元大中型100</td>\n",
       "      <td>2023/03/24</td>\n",
       "      <td>57.40</td>\n",
       "      <td>41</td>\n",
       "    </tr>\n",
       "    <tr>\n",
       "      <th>2</th>\n",
       "      <td>0052 富邦科技</td>\n",
       "      <td>2023/03/24</td>\n",
       "      <td>110.10</td>\n",
       "      <td>383</td>\n",
       "    </tr>\n",
       "    <tr>\n",
       "      <th>3</th>\n",
       "      <td>0053 元大電子</td>\n",
       "      <td>2023/03/24</td>\n",
       "      <td>61.30</td>\n",
       "      <td>5</td>\n",
       "    </tr>\n",
       "    <tr>\n",
       "      <th>4</th>\n",
       "      <td>0055 元大MSCI金融</td>\n",
       "      <td>2023/03/24</td>\n",
       "      <td>21.83</td>\n",
       "      <td>220</td>\n",
       "    </tr>\n",
       "  </tbody>\n",
       "</table>\n",
       "</div>"
      ],
      "text/plain": [
       "            證券代碼         年月日  收盤價(元)  成交量(千股)\n",
       "0    0050 元大台灣50  2023/03/24  122.20    13919\n",
       "1   0051 元大中型100  2023/03/24   57.40       41\n",
       "2      0052 富邦科技  2023/03/24  110.10      383\n",
       "3      0053 元大電子  2023/03/24   61.30        5\n",
       "4  0055 元大MSCI金融  2023/03/24   21.83      220"
      ]
     },
     "execution_count": 37,
     "metadata": {},
     "output_type": "execute_result"
    }
   ],
   "source": [
    "# 讀取股市資料\n",
    "pick_cols = ['證券代碼','年月日','收盤價(元)','成交量(千股)']\n",
    "market_raw = pd.read_excel('./bda2023_mid_dataset/stock_data_2019-2023.xlsx', \\\n",
    "    sheet_name=['上市2019', '上市2020', '上市2021', '上市2022', '上市2023'], usecols=pick_cols)\n",
    "market_raw['上市2023'].head()"
   ]
  },
  {
   "attachments": {},
   "cell_type": "markdown",
   "metadata": {},
   "source": [
    "- 從中挑出指定的股票代碼，本次實驗挑選的是 \"2603 長榮\"\n",
    "- 因為讀取全部股票紀錄較花時間。挑出後，存成檔案做為紀錄點，方便後續使用"
   ]
  },
  {
   "cell_type": "code",
   "execution_count": 38,
   "metadata": {},
   "outputs": [],
   "source": [
    "# 取出指定代碼股票紀錄\n",
    "# ticks = ['2603 長榮','2609 陽明', '2610 華航', '2618 長榮航', '0050 元大台灣50']\n",
    "ticks = ['2603 長榮']\n",
    "\n",
    "# 整理出存檔路徑\n",
    "f_path = []\n",
    "for i in range(len(ticks)):\n",
    "    path_str = ticks[i]\n",
    "    f_path.append(f'./ticks_data/{path_str[0:4]}_19-23.csv')\n",
    "\n",
    "# 篩選\n",
    "for i in range(len(ticks)):   \n",
    "    tmp_df = pd.DataFrame()  \n",
    "    for market_year in market_raw:\n",
    "        tmp = market_raw[market_year].loc[market_raw[market_year]['證券代碼'] == ticks[i], :]\n",
    "        tmp = tmp.iloc[::-1]\n",
    "        tmp_df = pd.concat([tmp_df, tmp], ignore_index=True)\n",
    "        \n",
    "    # Write save points to file\n",
    "    # 繁中字編碼可改 'utf-8' or 'big5'\n",
    "    tmp_df.to_csv(f_path[i], encoding='big5', index=False)\n",
    "    \n",
    "# head = tmp_df.columns  # 取出欄位定義\n",
    "# print(len(tmp_df.index)) \n",
    "# tmp_df.head()"
   ]
  },
  {
   "attachments": {},
   "cell_type": "markdown",
   "metadata": {},
   "source": [
    "- 從檔案中讀取指定代碼的紀錄"
   ]
  },
  {
   "cell_type": "code",
   "execution_count": 3,
   "metadata": {},
   "outputs": [
    {
     "name": "stdout",
     "output_type": "stream",
     "text": [
      "<class 'pandas._libs.tslibs.timestamps.Timestamp'>\n",
      "Index(['證券代碼', '年月日', '收盤價(元)', '成交量(千股)'], dtype='object')\n"
     ]
    },
    {
     "data": {
      "text/html": [
       "<div>\n",
       "<style scoped>\n",
       "    .dataframe tbody tr th:only-of-type {\n",
       "        vertical-align: middle;\n",
       "    }\n",
       "\n",
       "    .dataframe tbody tr th {\n",
       "        vertical-align: top;\n",
       "    }\n",
       "\n",
       "    .dataframe thead th {\n",
       "        text-align: right;\n",
       "    }\n",
       "</style>\n",
       "<table border=\"1\" class=\"dataframe\">\n",
       "  <thead>\n",
       "    <tr style=\"text-align: right;\">\n",
       "      <th></th>\n",
       "      <th>證券代碼</th>\n",
       "      <th>年月日</th>\n",
       "      <th>收盤價(元)</th>\n",
       "      <th>成交量(千股)</th>\n",
       "    </tr>\n",
       "  </thead>\n",
       "  <tbody>\n",
       "    <tr>\n",
       "      <th>0</th>\n",
       "      <td>2603 長榮</td>\n",
       "      <td>2019-01-02</td>\n",
       "      <td>11.7884</td>\n",
       "      <td>5111</td>\n",
       "    </tr>\n",
       "    <tr>\n",
       "      <th>1</th>\n",
       "      <td>2603 長榮</td>\n",
       "      <td>2019-01-03</td>\n",
       "      <td>11.7389</td>\n",
       "      <td>5048</td>\n",
       "    </tr>\n",
       "    <tr>\n",
       "      <th>2</th>\n",
       "      <td>2603 長榮</td>\n",
       "      <td>2019-01-04</td>\n",
       "      <td>11.4912</td>\n",
       "      <td>12347</td>\n",
       "    </tr>\n",
       "    <tr>\n",
       "      <th>3</th>\n",
       "      <td>2603 長榮</td>\n",
       "      <td>2019-01-07</td>\n",
       "      <td>11.8380</td>\n",
       "      <td>7842</td>\n",
       "    </tr>\n",
       "    <tr>\n",
       "      <th>4</th>\n",
       "      <td>2603 長榮</td>\n",
       "      <td>2019-01-08</td>\n",
       "      <td>11.7389</td>\n",
       "      <td>4366</td>\n",
       "    </tr>\n",
       "  </tbody>\n",
       "</table>\n",
       "</div>"
      ],
      "text/plain": [
       "      證券代碼        年月日   收盤價(元)  成交量(千股)\n",
       "0  2603 長榮 2019-01-02  11.7884     5111\n",
       "1  2603 長榮 2019-01-03  11.7389     5048\n",
       "2  2603 長榮 2019-01-04  11.4912    12347\n",
       "3  2603 長榮 2019-01-07  11.8380     7842\n",
       "4  2603 長榮 2019-01-08  11.7389     4366"
      ]
     },
     "execution_count": 3,
     "metadata": {},
     "output_type": "execute_result"
    }
   ],
   "source": [
    "ticks = ['2603 長榮']\n",
    "market_data = {}\n",
    "\n",
    "# 讀檔\n",
    "for tick in ticks:\n",
    "    market_data[tick] = pd.read_csv(f'./ticks_data/{tick[0:4]}_19-23.csv', delimiter=',', encoding='big5',index_col=False)\n",
    "    # 從csv檔讀出時，時間格式會變成windows樣式，要再把格式轉回datetime\n",
    "    market_data[tick]['年月日'] = market_data[tick]['年月日'].apply( \\\n",
    "        lambda x: datetime.fromtimestamp(mktime(strptime(x, '%Y/%m/%d'))))\n",
    "    \n",
    "print(type(market_data[tick]['年月日'][0]))\n",
    "head = market_data[ticks[0]].columns\n",
    "print(head)\n",
    "market_data[ticks[0]].head()"
   ]
  },
  {
   "attachments": {},
   "cell_type": "markdown",
   "metadata": {},
   "source": [
    "# 2.篩選文章和標註(Labeling)"
   ]
  },
  {
   "attachments": {},
   "cell_type": "markdown",
   "metadata": {},
   "source": [
    "## 標註\n",
    "- 定義labeling method: 我們選擇不標\"漲\"或\"跌\"。而是將漲跌%數作為標記，不做分類而是迴歸。\n",
    "- rol_window 控制要計算幾天間的價差\n",
    "- 回傳的標註可為dict { date: label } 或dataframe型別"
   ]
  },
  {
   "cell_type": "code",
   "execution_count": 102,
   "metadata": {},
   "outputs": [],
   "source": [
    "# Mark labels\n",
    "def markLabels(data=pd.DataFrame, n_date: int=1, ret_type: str='dict') -> pd.DataFrame | dict:\n",
    "    # return as Dataframe\n",
    "    if ret_type == 'df':\n",
    "        tmp = list()\n",
    "        for i in data.index:\n",
    "            if i<(len(data.index) - n_date):\n",
    "                period_chg = data['收盤價(元)'][i+n_date]-data['收盤價(元)'][i]\n",
    "                period_pct = (period_chg/(data['收盤價(元)'][i]+0.000001))*100.0            \n",
    "                tmp.append(round(period_pct, 0))\n",
    "                \n",
    "        tmp.extend([0.0]*n_date)    \n",
    "        data['Label'] = tmp  \n",
    "        return data\n",
    "\n",
    "    # return as dict\n",
    "    else:\n",
    "        labels = {}\n",
    "        for i in data.index:\n",
    "            if i<(len(data.index) - n_date):\n",
    "                period_chg = data['收盤價(元)'][i+n_date]-data['收盤價(元)'][i]\n",
    "                period_pct = (period_chg/(data['收盤價(元)'][i]+0.000001))*100.0\n",
    "                # dt = datetime.fromtimestamp(mktime(strptime(data['年月日'][i], '%Y/%m/%d')))  # 上面已轉換\n",
    "                k = datetime.strftime(data['年月日'][i], '%Y-%m-%d')\n",
    "                labels[data['年月日'][i]] = round(period_pct, 3)\n",
    "        print(type(data['年月日'][i]))\n",
    "        return labels \n",
    "# test = markLabels(data_2603, 3)\n",
    "# data_2603.loc[data_2603['Label']>10, :]\n",
    "# data_2603.loc[data_2603['Label']>0, ['年月日']]"
   ]
  },
  {
   "attachments": {},
   "cell_type": "markdown",
   "metadata": {},
   "source": [
    "- 將資料和標註合併的method，同時能設定條件，篩出指定的label"
   ]
  },
  {
   "cell_type": "code",
   "execution_count": 73,
   "metadata": {},
   "outputs": [],
   "source": [
    "def matchDataLabel(data: list|pd.DataFrame, labels: dict|list) -> dict:\n",
    "    tmp = sorted(set(data))\n",
    "    ret_labels = dict()\n",
    "    for time in tmp:\n",
    "        # time = datetime.strftime(time, '%Y-%m-%d')\n",
    "        if time in labels:\n",
    "        # if time in labels and labels[time] >= 5.0:  # 設定條件\n",
    "            ret_labels[time] = labels[time]\n",
    "    return ret_labels"
   ]
  },
  {
   "attachments": {},
   "cell_type": "markdown",
   "metadata": {},
   "source": [
    "- 標註主程式，extracted_time是key為date、value為label的dict"
   ]
  },
  {
   "cell_type": "code",
   "execution_count": 265,
   "metadata": {},
   "outputs": [
    {
     "name": "stdout",
     "output_type": "stream",
     "text": [
      "<class 'pandas._libs.tslibs.timestamps.Timestamp'>\n",
      "Feature length: 1023\n"
     ]
    }
   ],
   "source": [
    "labels = markLabels(market_data[ticks[0]], n_date=3)\n",
    "extracted_time = matchDataLabel(market_data[tick]['年月日'], labels)    \n",
    "\n",
    "print(f'Feature length: {len(extracted_time.keys())}')\n",
    "# extracted_time\n",
    "# print(extracted_time)"
   ]
  },
  {
   "attachments": {},
   "cell_type": "markdown",
   "metadata": {},
   "source": [
    "- 計算漲和跌的分布，後面評估用"
   ]
  },
  {
   "cell_type": "code",
   "execution_count": 104,
   "metadata": {},
   "outputs": [
    {
     "name": "stdout",
     "output_type": "stream",
     "text": [
      "[[4, 10], [7, 10], [7, 15], [13, 7], [12, 7]]\n"
     ]
    }
   ],
   "source": [
    "truth_list = []\n",
    "for m in range(39):\n",
    "    start = pd.Timestamp(year=2020, month=1, day=1)+ pd.DateOffset(months=m)\n",
    "    end = start + pd.DateOffset(months=1, days=-1)\n",
    "    up = 0\n",
    "    down = 0\n",
    "    for d in extracted_time.keys():\n",
    "        if d >= start and d <= end:\n",
    "            if extracted_time[d] > 0:\n",
    "                up+=1\n",
    "            elif extracted_time[d] < 0:\n",
    "                down+=1\n",
    "    \n",
    "    truth_list.append([up, down])\n",
    "print(truth_list[0:5])"
   ]
  },
  {
   "attachments": {},
   "cell_type": "markdown",
   "metadata": {},
   "source": [
    "## 讀取文章"
   ]
  },
  {
   "attachments": {},
   "cell_type": "markdown",
   "metadata": {},
   "source": [
    "- 設定讀檔路徑"
   ]
  },
  {
   "cell_type": "code",
   "execution_count": 10,
   "metadata": {},
   "outputs": [],
   "source": [
    "# file path\n",
    "file_paths = [\n",
    "    'bda2023_mid_bbs_2019-2021.csv',\n",
    "    'bda2023_mid_bbs_2022-2023.csv',\n",
    "    'bda2023_mid_forum_2020.csv',\n",
    "    'bda2023_mid_forum_2021.csv',\n",
    "    'bda2023_mid_forum_2022-2023.csv',   \n",
    "    # 'bda2023_mid_news_2020.csv',\n",
    "    # 'bda2023_mid_news_2021.csv',\n",
    "    # 'bda2023_mid_news_2022.csv',\n",
    "    # 'bda2023_mid_news_2023.csv',\n",
    "    # 'bda2023_mid_news_2022-2023.csv', \n",
    "]\n",
    "\n",
    "news_paths = [\n",
    "    'bda2023_mid_news_2020.csv',\n",
    "    'bda2023_mid_news_2021.csv',\n",
    "    'bda2023_mid_news_2022.csv',\n",
    "    'bda2023_mid_news_2023.csv',\n",
    "    'bda2023_mid_news_2022-2023.csv',\n",
    "]"
   ]
  },
  {
   "attachments": {},
   "cell_type": "markdown",
   "metadata": {},
   "source": [
    "- 讀取文章至dataframe"
   ]
  },
  {
   "cell_type": "code",
   "execution_count": 11,
   "metadata": {},
   "outputs": [
    {
     "name": "stderr",
     "output_type": "stream",
     "text": [
      "100%|██████████| 5/5 [00:16<00:00,  3.26s/it]"
     ]
    },
    {
     "name": "stdout",
     "output_type": "stream",
     "text": [
      "num of articles: 925791\n"
     ]
    },
    {
     "name": "stderr",
     "output_type": "stream",
     "text": [
      "\n"
     ]
    },
    {
     "data": {
      "text/html": [
       "<div>\n",
       "<style scoped>\n",
       "    .dataframe tbody tr th:only-of-type {\n",
       "        vertical-align: middle;\n",
       "    }\n",
       "\n",
       "    .dataframe tbody tr th {\n",
       "        vertical-align: top;\n",
       "    }\n",
       "\n",
       "    .dataframe thead th {\n",
       "        text-align: right;\n",
       "    }\n",
       "</style>\n",
       "<table border=\"1\" class=\"dataframe\">\n",
       "  <thead>\n",
       "    <tr style=\"text-align: right;\">\n",
       "      <th></th>\n",
       "      <th>post_time</th>\n",
       "      <th>title</th>\n",
       "      <th>content</th>\n",
       "    </tr>\n",
       "  </thead>\n",
       "  <tbody>\n",
       "    <tr>\n",
       "      <th>0</th>\n",
       "      <td>2020-01-01 00:28:00</td>\n",
       "      <td>財政部、內政部推一站式服務 不動產移轉登記一次搞定</td>\n",
       "      <td>為避免民眾辦理不動產買賣移轉登記，需要稅務、地政機關兩邊跑，財政部與內政部合作成立「不動產移...</td>\n",
       "    </tr>\n",
       "    <tr>\n",
       "      <th>1</th>\n",
       "      <td>2020-01-01 00:29:00</td>\n",
       "      <td>IMF：Q3美元佔全球外匯儲備比重升至一年新高</td>\n",
       "      <td>週二 (31 日) 國際貨幣組織公布 (IMF) 數據顯示，今年第 3 季，美元在全球外匯儲...</td>\n",
       "    </tr>\n",
       "    <tr>\n",
       "      <th>2</th>\n",
       "      <td>2020-01-01 01:15:00</td>\n",
       "      <td>騰訊集團以34億美元 收購環球音樂10%股權</td>\n",
       "      <td>外電報導，騰訊集團 (0700-HK) 與法國多媒體集團威望迪 (Vivendi)，在經過了...</td>\n",
       "    </tr>\n",
       "    <tr>\n",
       "      <th>3</th>\n",
       "      <td>2020-01-01 03:23:00</td>\n",
       "      <td>加幣漲幅勇冠G10 瑞信：央行政策是明年主要風險</td>\n",
       "      <td>週二 (31 日)，受到中國強勁經濟數據支持，加元兌美元匯率升至 14 個月高位，且年度漲幅...</td>\n",
       "    </tr>\n",
       "    <tr>\n",
       "      <th>4</th>\n",
       "      <td>2020-01-01 03:41:00</td>\n",
       "      <td>【歐股盤後】收低</td>\n",
       "      <td>（中央社台北2020年1月1日電）歐洲股市在今年最後一個交易日交易清淡，倫敦和巴黎股市收低，...</td>\n",
       "    </tr>\n",
       "  </tbody>\n",
       "</table>\n",
       "</div>"
      ],
      "text/plain": [
       "             post_time                      title   \n",
       "0  2020-01-01 00:28:00  財政部、內政部推一站式服務 不動產移轉登記一次搞定  \\\n",
       "1  2020-01-01 00:29:00    IMF：Q3美元佔全球外匯儲備比重升至一年新高   \n",
       "2  2020-01-01 01:15:00     騰訊集團以34億美元 收購環球音樂10%股權   \n",
       "3  2020-01-01 03:23:00   加幣漲幅勇冠G10 瑞信：央行政策是明年主要風險   \n",
       "4  2020-01-01 03:41:00                   【歐股盤後】收低   \n",
       "\n",
       "                                             content  \n",
       "0  為避免民眾辦理不動產買賣移轉登記，需要稅務、地政機關兩邊跑，財政部與內政部合作成立「不動產移...  \n",
       "1  週二 (31 日) 國際貨幣組織公布 (IMF) 數據顯示，今年第 3 季，美元在全球外匯儲...  \n",
       "2  外電報導，騰訊集團 (0700-HK) 與法國多媒體集團威望迪 (Vivendi)，在經過了...  \n",
       "3  週二 (31 日)，受到中國強勁經濟數據支持，加元兌美元匯率升至 14 個月高位，且年度漲幅...  \n",
       "4  （中央社台北2020年1月1日電）歐洲股市在今年最後一個交易日交易清淡，倫敦和巴黎股市收低，...  "
      ]
     },
     "execution_count": 11,
     "metadata": {},
     "output_type": "execute_result"
    }
   ],
   "source": [
    "# Read file\n",
    "articles_df = pd.DataFrame()\n",
    "for file in tqdm(news_paths):\n",
    "    tmp_df = pd.read_csv('./bda2023_mid_dataset/'+file, delimiter=',', encoding='utf-8',\n",
    "                       usecols=['post_time', 'title', 'content'])\n",
    "    articles_df = pd.concat([articles_df, tmp_df], ignore_index=True)\n",
    "print(f'num of articles: {len(articles_df.index)}')\n",
    "articles_df.head()"
   ]
  },
  {
   "attachments": {},
   "cell_type": "markdown",
   "metadata": {},
   "source": [
    "- 統一時間格式，可為pd.Timestamp或Datetime.datetime"
   ]
  },
  {
   "cell_type": "code",
   "execution_count": 12,
   "metadata": {},
   "outputs": [
    {
     "name": "stdout",
     "output_type": "stream",
     "text": [
      "2020-01-08 00:00:00\n"
     ]
    },
    {
     "data": {
      "text/plain": [
       "1"
      ]
     },
     "execution_count": 12,
     "metadata": {},
     "output_type": "execute_result"
    }
   ],
   "source": [
    "# 轉換時間格式\n",
    "articles_df['post_time'] = pd.to_datetime(articles_df['post_time']).dt.normalize() # 將時間統一到 00:00:00\n",
    "# articles_df['post_time'] = articles_df['post_time'].dt.floor('D')\n",
    "\n",
    "# 上面methods執行會比下面快\n",
    "# articles_df['post_time'] = pd.to_datetime(articles_df['post_time']).dt.date\n",
    "print(articles_df['post_time'][5130])\n",
    "# 測試取出日期屬性  index 5130 = 2019-03-30\n",
    "articles_df['post_time'][5130].month"
   ]
  },
  {
   "attachments": {},
   "cell_type": "markdown",
   "metadata": {},
   "source": [
    "- 將標記移置train_df上"
   ]
  },
  {
   "cell_type": "code",
   "execution_count": 13,
   "metadata": {},
   "outputs": [],
   "source": [
    "train_df = articles_df.copy()\n",
    "train_df['label'] = train_df['post_time'].apply(lambda x: extracted_time.get(x, None))\n",
    "# train_df['label'] = train_df['post_time'].apply(lambda x: extracted_time.get(datetime.strftime(x, '%Y-%m-%d')))"
   ]
  },
  {
   "attachments": {},
   "cell_type": "markdown",
   "metadata": {},
   "source": [
    "- 根據標註挑選"
   ]
  },
  {
   "cell_type": "code",
   "execution_count": 14,
   "metadata": {},
   "outputs": [
    {
     "name": "stdout",
     "output_type": "stream",
     "text": [
      "173888\n"
     ]
    },
    {
     "data": {
      "text/html": [
       "<div>\n",
       "<style scoped>\n",
       "    .dataframe tbody tr th:only-of-type {\n",
       "        vertical-align: middle;\n",
       "    }\n",
       "\n",
       "    .dataframe tbody tr th {\n",
       "        vertical-align: top;\n",
       "    }\n",
       "\n",
       "    .dataframe thead th {\n",
       "        text-align: right;\n",
       "    }\n",
       "</style>\n",
       "<table border=\"1\" class=\"dataframe\">\n",
       "  <thead>\n",
       "    <tr style=\"text-align: right;\">\n",
       "      <th></th>\n",
       "      <th>post_time</th>\n",
       "      <th>title</th>\n",
       "      <th>content</th>\n",
       "      <th>label</th>\n",
       "    </tr>\n",
       "  </thead>\n",
       "  <tbody>\n",
       "    <tr>\n",
       "      <th>173883</th>\n",
       "      <td>2023-03-08</td>\n",
       "      <td>【公告】大億董事會通過關係人捐贈案</td>\n",
       "      <td>日 期：2023年03月08日公司名稱：大億 (1521)主 旨：大億董事會通過關係人捐贈案...</td>\n",
       "      <td>6.0</td>\n",
       "    </tr>\n",
       "    <tr>\n",
       "      <th>173884</th>\n",
       "      <td>2023-03-08</td>\n",
       "      <td>2月筆電出貨微幅回溫 緯創Q1營收逐月升</td>\n",
       "      <td>緯創（3231）2月筆電出貨微幅回溫、達120萬台，帶動月營收亦月增逾一成、達620.67億...</td>\n",
       "      <td>6.0</td>\n",
       "    </tr>\n",
       "    <tr>\n",
       "      <th>173885</th>\n",
       "      <td>2023-03-08</td>\n",
       "      <td>通膨問題緩解 拜登支持度升至42％</td>\n",
       "      <td>路透／益普索（Ipsos）最新調查顯示，美國總統拜登的民意支持度如今升至42％，創下去年6月...</td>\n",
       "      <td>6.0</td>\n",
       "    </tr>\n",
       "    <tr>\n",
       "      <th>173886</th>\n",
       "      <td>2023-03-08</td>\n",
       "      <td>歐元區去年第四季GDP零成長 不影響ECB升息腳步</td>\n",
       "      <td>歐盟統計局8日公布，歐元區去年第四季國內生產毛額（GDP）終值由上次預估的季增0.1％下修至...</td>\n",
       "      <td>6.0</td>\n",
       "    </tr>\n",
       "    <tr>\n",
       "      <th>173887</th>\n",
       "      <td>2023-03-08</td>\n",
       "      <td>鮑爾放鷹 美債驚見1981年來最嚴重倒掛</td>\n",
       "      <td>聯準會（Fed）主席鮑爾7日赴國會作證時高唱鷹調，刺激美國2年期公債殖利率飆破5％，創下20...</td>\n",
       "      <td>6.0</td>\n",
       "    </tr>\n",
       "  </tbody>\n",
       "</table>\n",
       "</div>"
      ],
      "text/plain": [
       "        post_time                      title   \n",
       "173883 2023-03-08          【公告】大億董事會通過關係人捐贈案  \\\n",
       "173884 2023-03-08       2月筆電出貨微幅回溫 緯創Q1營收逐月升   \n",
       "173885 2023-03-08          通膨問題緩解 拜登支持度升至42％   \n",
       "173886 2023-03-08  歐元區去年第四季GDP零成長 不影響ECB升息腳步   \n",
       "173887 2023-03-08       鮑爾放鷹 美債驚見1981年來最嚴重倒掛   \n",
       "\n",
       "                                                  content  label  \n",
       "173883  日 期：2023年03月08日公司名稱：大億 (1521)主 旨：大億董事會通過關係人捐贈案...    6.0  \n",
       "173884  緯創（3231）2月筆電出貨微幅回溫、達120萬台，帶動月營收亦月增逾一成、達620.67億...    6.0  \n",
       "173885  路透／益普索（Ipsos）最新調查顯示，美國總統拜登的民意支持度如今升至42％，創下去年6月...    6.0  \n",
       "173886  歐盟統計局8日公布，歐元區去年第四季國內生產毛額（GDP）終值由上次預估的季增0.1％下修至...    6.0  \n",
       "173887  聯準會（Fed）主席鮑爾7日赴國會作證時高唱鷹調，刺激美國2年期公債殖利率飆破5％，創下20...    6.0  "
      ]
     },
     "execution_count": 14,
     "metadata": {},
     "output_type": "execute_result"
    }
   ],
   "source": [
    "train_df = train_df.loc[train_df['label'] >= 5.0, :]\n",
    "train_df = train_df.reset_index(drop=True)\n",
    "# [22050] = '2020-01-30'\n",
    "# train_df['label'][22050]\n",
    "# ans = lambda x: extracted_time.get(datetime.strftime(x, '%Y-%m-%d'), None)\n",
    "# ans(train_df['post_time'][22050])\n",
    "print(len(train_df['label']))\n",
    "train_df.tail(5)"
   ]
  },
  {
   "attachments": {},
   "cell_type": "markdown",
   "metadata": {},
   "source": [
    "## 斷詞"
   ]
  },
  {
   "attachments": {},
   "cell_type": "markdown",
   "metadata": {},
   "source": [
    "- 引入斷詞工具monpa所需套件"
   ]
  },
  {
   "cell_type": "code",
   "execution_count": 15,
   "metadata": {},
   "outputs": [
    {
     "name": "stdout",
     "output_type": "stream",
     "text": [
      "+---------------------------------------------------------------------+\n",
      "  Welcome to MONPA: Multi-Objective NER POS Annotator for Chinese\n",
      "+---------------------------------------------------------------------+\n",
      "已找到 model檔。Found model file.\n"
     ]
    }
   ],
   "source": [
    "import monpa\n",
    "from monpa import utils\n",
    "import torch\n",
    "from collections import Counter"
   ]
  },
  {
   "attachments": {},
   "cell_type": "markdown",
   "metadata": {},
   "source": [
    "- 確認GPU狀態"
   ]
  },
  {
   "cell_type": "code",
   "execution_count": 16,
   "metadata": {},
   "outputs": [
    {
     "name": "stdout",
     "output_type": "stream",
     "text": [
      "GPU state: Available\n",
      "GPU total memory: 11263.75 MB\n",
      "Reserve for excution: 0.00 MB\n",
      "Execution allocated: 0.00 MB\n",
      "Free memory: 0.00 MB\n"
     ]
    }
   ],
   "source": [
    "if torch.cuda.is_available():\n",
    "    monpa.use_gpu(True)\n",
    "\n",
    "def print_gpu_memory():\n",
    "    gpu_state = torch.cuda.is_available()\n",
    "    total_m = torch.cuda.get_device_properties(0).total_memory/(1024**2)\n",
    "    reserved_m = torch.cuda.memory_reserved(0)/(1024**2)\n",
    "    allocated_m = torch.cuda.memory_allocated(0)/(1024**2)\n",
    "    free_m = reserved_m-allocated_m\n",
    "    \n",
    "    print('GPU state: {:s}\\nGPU total memory: {:.2f} MB\\nReserve for excution: {:.2f} MB\\nExecution allocated: {:.2f} MB\\nFree memory: {:.2f} MB'\\\n",
    "        .format('Available' if gpu_state else 'None', total_m, reserved_m, allocated_m, free_m))\n",
    "\n",
    "print_gpu_memory()"
   ]
  },
  {
   "attachments": {},
   "cell_type": "markdown",
   "metadata": {},
   "source": [
    "- 將標題和內容合併"
   ]
  },
  {
   "cell_type": "code",
   "execution_count": 17,
   "metadata": {},
   "outputs": [],
   "source": [
    "# Combine 'title' & 'content'\n",
    "def combine_str(series):\n",
    "    tmp_str = ''\n",
    "    try:\n",
    "        tmp_str = series['title']+'。'+series['content']\n",
    "    except:\n",
    "        tmp_str = str(series['title'])+'。'+str(series['content'])\n",
    "    \n",
    "    return tmp_str    \n",
    "    \n",
    "train_df['combined'] = train_df.apply(combine_str, axis=1)"
   ]
  },
  {
   "attachments": {},
   "cell_type": "markdown",
   "metadata": {},
   "source": [
    "- 定義斷詞method"
   ]
  },
  {
   "cell_type": "code",
   "execution_count": 18,
   "metadata": {},
   "outputs": [],
   "source": [
    "def word_Tokenize(contents: pd.DataFrame, forW2V: bool=False):\n",
    "    err_data = list()\n",
    "    tf_counter = Counter()\n",
    "    df_counter = Counter()\n",
    "    total = len(contents.index)\n",
    "    \n",
    "    if forW2V:\n",
    "        W2V = list()\n",
    "    \n",
    "    for i in tqdm(contents.index, desc=\"Cutting process: \"):\n",
    "        total -= 1\n",
    "        if  total % 5000 == 0:\n",
    "            print_gpu_memory()\n",
    "            # Clear gpu cache\n",
    "            # torch.cuda.empty_cache()           \n",
    "                \n",
    "        df_tmp = Counter()\n",
    "        sentence_list = utils.short_sentence(contents['combined'][i])\n",
    "        result_cut = monpa.cut_batch(sentence_list) #斷詞 GPU加速method\n",
    "        \n",
    "        # print(result_cut)\n",
    "        tmp_row = list()\n",
    "        for terms in result_cut:            \n",
    "            if len(terms) > 0: \n",
    "                term = terms[0].strip() #去除前後多餘空白\n",
    "                # print(term)\n",
    "                #若詞長>1 (排除標點符號、單字)，排除英數字\n",
    "                if(len(term)>1 and len(term)<=8) \\\n",
    "                    and (not term.isdigit()): \n",
    "                    # print(type(term))\n",
    "                    tf_counter[term]+=1 #tf加1\n",
    "                    if(df_tmp[term]==0): #若本篇之前不曾出現\n",
    "                        df_tmp[term]=1 #df標為1\n",
    "                    tmp_row.append(term)\n",
    "                    \n",
    "        if forW2V:\n",
    "            W2V.append(tmp_row)\n",
    "        \n",
    "        df_counter+=df_tmp # 累加多篇df        \n",
    "    \n",
    "    if forW2V:\n",
    "        f = open('./mid-term/Word2Vec/raw.csv', 'w', newline='', encoding='utf-8')\n",
    "        writer = csv.writer(f, delimiter=',')\n",
    "        for items in W2V:\n",
    "            writer.writerow(items)\n",
    "        f.close()\n",
    "        \n",
    "    return tf_counter, df_counter, err_data    "
   ]
  },
  {
   "attachments": {},
   "cell_type": "markdown",
   "metadata": {},
   "source": [
    "- 斷詞主程式"
   ]
  },
  {
   "cell_type": "code",
   "execution_count": 19,
   "metadata": {},
   "outputs": [
    {
     "name": "stdout",
     "output_type": "stream",
     "text": [
      "GPU state: Available\n",
      "GPU total memory: 11263.75 MB\n",
      "Reserve for excution: 0.00 MB\n",
      "Execution allocated: 0.00 MB\n",
      "Free memory: 0.00 MB\n"
     ]
    }
   ],
   "source": [
    "result = []\n",
    "\n",
    "# Cutting main proc\n",
    "print_gpu_memory()\n",
    "# tf, df, err = word_Tokenize(train_df, False)\n",
    "# print(f'tf counter result: \\n{tf.most_common(100)}.')\n",
    "# print(f'df counter result: \\n{df.most_common(100)}.')\n",
    "# print(f'Error avoid {len(err)} times.')"
   ]
  },
  {
   "attachments": {},
   "cell_type": "markdown",
   "metadata": {},
   "source": [
    "## 外部引入已斷詞資料"
   ]
  },
  {
   "attachments": {},
   "cell_type": "markdown",
   "metadata": {},
   "source": [
    "- 讀取檔案"
   ]
  },
  {
   "cell_type": "code",
   "execution_count": 263,
   "metadata": {},
   "outputs": [
    {
     "data": {
      "text/html": [
       "<div>\n",
       "<style scoped>\n",
       "    .dataframe tbody tr th:only-of-type {\n",
       "        vertical-align: middle;\n",
       "    }\n",
       "\n",
       "    .dataframe tbody tr th {\n",
       "        vertical-align: top;\n",
       "    }\n",
       "\n",
       "    .dataframe thead th {\n",
       "        text-align: right;\n",
       "    }\n",
       "</style>\n",
       "<table border=\"1\" class=\"dataframe\">\n",
       "  <thead>\n",
       "    <tr style=\"text-align: right;\">\n",
       "      <th></th>\n",
       "      <th>post_time</th>\n",
       "      <th>content</th>\n",
       "    </tr>\n",
       "  </thead>\n",
       "  <tbody>\n",
       "    <tr>\n",
       "      <th>139091</th>\n",
       "      <td>2023-03-21</td>\n",
       "      <td>情報 21 市場 虧損 最多 股票 21 市場 虧損 股票 創意 999.8 華孚 688...</td>\n",
       "    </tr>\n",
       "    <tr>\n",
       "      <th>139092</th>\n",
       "      <td>2023-03-21</td>\n",
       "      <td>新聞 葉倫 提振 市場 信心 美股 道瓊 早盤 原文 標題 葉倫 提振 市場 信心 美股 ...</td>\n",
       "    </tr>\n",
       "    <tr>\n",
       "      <th>139093</th>\n",
       "      <td>2023-03-21</td>\n",
       "      <td>新聞 社子 三萬 預警 停電 王美花 道歉 原文 標題 社子 三萬 預警 停電 王美花 道...</td>\n",
       "    </tr>\n",
       "    <tr>\n",
       "      <th>139094</th>\n",
       "      <td>2023-03-21</td>\n",
       "      <td>新聞 聯電 新加坡 擴廠 亞翔 82.59 大單 原文标题 聯電 新加坡 擴廠 亞翔 82...</td>\n",
       "    </tr>\n",
       "    <tr>\n",
       "      <th>139095</th>\n",
       "      <td>2023-03-21</td>\n",
       "      <td>新聞 郭哲榮 大絕招 出現 不會 原文 標題 郭哲榮 大絕招 出現 不會 金融 風暴 原文...</td>\n",
       "    </tr>\n",
       "  </tbody>\n",
       "</table>\n",
       "</div>"
      ],
      "text/plain": [
       "         post_time                                            content\n",
       "139091  2023-03-21   情報 21 市場 虧損 最多 股票 21 市場 虧損 股票 創意 999.8 華孚 688...\n",
       "139092  2023-03-21   新聞 葉倫 提振 市場 信心 美股 道瓊 早盤 原文 標題 葉倫 提振 市場 信心 美股 ...\n",
       "139093  2023-03-21   新聞 社子 三萬 預警 停電 王美花 道歉 原文 標題 社子 三萬 預警 停電 王美花 道...\n",
       "139094  2023-03-21   新聞 聯電 新加坡 擴廠 亞翔 82.59 大單 原文标题 聯電 新加坡 擴廠 亞翔 82...\n",
       "139095  2023-03-21   新聞 郭哲榮 大絕招 出現 不會 原文 標題 郭哲榮 大絕招 出現 不會 金融 風暴 原文..."
      ]
     },
     "execution_count": 263,
     "metadata": {},
     "output_type": "execute_result"
    }
   ],
   "source": [
    "token_OK = pd.read_csv('./terms_data/mid_bbs_OK.csv', delimiter=',', encoding='utf-8')\n",
    "token_OK.tail()"
   ]
  },
  {
   "attachments": {},
   "cell_type": "markdown",
   "metadata": {},
   "source": [
    "- 調整時間格式，併入標註"
   ]
  },
  {
   "cell_type": "code",
   "execution_count": 241,
   "metadata": {},
   "outputs": [
    {
     "name": "stdout",
     "output_type": "stream",
     "text": [
      "352092\n"
     ]
    },
    {
     "data": {
      "text/html": [
       "<div>\n",
       "<style scoped>\n",
       "    .dataframe tbody tr th:only-of-type {\n",
       "        vertical-align: middle;\n",
       "    }\n",
       "\n",
       "    .dataframe tbody tr th {\n",
       "        vertical-align: top;\n",
       "    }\n",
       "\n",
       "    .dataframe thead th {\n",
       "        text-align: right;\n",
       "    }\n",
       "</style>\n",
       "<table border=\"1\" class=\"dataframe\">\n",
       "  <thead>\n",
       "    <tr style=\"text-align: right;\">\n",
       "      <th></th>\n",
       "      <th>post_time</th>\n",
       "      <th>content</th>\n",
       "      <th>label</th>\n",
       "    </tr>\n",
       "  </thead>\n",
       "  <tbody>\n",
       "    <tr>\n",
       "      <th>352087</th>\n",
       "      <td>2023-03-21</td>\n",
       "      <td>友達 ❷❺ 元以 蘇起 不知 多少 老是 說話</td>\n",
       "      <td>0.0</td>\n",
       "    </tr>\n",
       "    <tr>\n",
       "      <th>352088</th>\n",
       "      <td>2023-03-21</td>\n",
       "      <td>長期 投資人 ETF 超額 報酬 建議 巴菲特 2013年 股東信 提出 建議 一般人 不...</td>\n",
       "      <td>0.0</td>\n",
       "    </tr>\n",
       "    <tr>\n",
       "      <th>352089</th>\n",
       "      <td>2023-03-21</td>\n",
       "      <td>美國 台積電 美國 設廠 不會 影響 美國 台灣 安全 承諾 晶片 中國 打掉 台灣 之後...</td>\n",
       "      <td>0.0</td>\n",
       "    </tr>\n",
       "    <tr>\n",
       "      <th>352090</th>\n",
       "      <td>2023-03-21</td>\n",
       "      <td>快笑死 根本 指標 AI 股票 AI 解說 股市 重大 事件 矽谷銀行 倒閉</td>\n",
       "      <td>0.0</td>\n",
       "    </tr>\n",
       "    <tr>\n",
       "      <th>352091</th>\n",
       "      <td>2023-03-21</td>\n",
       "      <td>AI 股票 AI 解說 股市 重大 事件 矽谷銀行 倒閉 預測 短期 一日 行情 甚麼 意...</td>\n",
       "      <td>0.0</td>\n",
       "    </tr>\n",
       "  </tbody>\n",
       "</table>\n",
       "</div>"
      ],
      "text/plain": [
       "        post_time                                            content  label\n",
       "352087 2023-03-21                           友達 ❷❺ 元以 蘇起 不知 多少 老是 說話    0.0\n",
       "352088 2023-03-21   長期 投資人 ETF 超額 報酬 建議 巴菲特 2013年 股東信 提出 建議 一般人 不...    0.0\n",
       "352089 2023-03-21   美國 台積電 美國 設廠 不會 影響 美國 台灣 安全 承諾 晶片 中國 打掉 台灣 之後...    0.0\n",
       "352090 2023-03-21             快笑死 根本 指標 AI 股票 AI 解說 股市 重大 事件 矽谷銀行 倒閉    0.0\n",
       "352091 2023-03-21   AI 股票 AI 解說 股市 重大 事件 矽谷銀行 倒閉 預測 短期 一日 行情 甚麼 意...    0.0"
      ]
     },
     "execution_count": 241,
     "metadata": {},
     "output_type": "execute_result"
    }
   ],
   "source": [
    "token_OK['post_time'] = pd.to_datetime(token_OK['post_time']).dt.normalize()\n",
    "token_OK['label'] = token_OK['post_time'].apply(lambda x: extracted_time.get(x, None))\n",
    "token_OK = token_OK.loc[token_OK['label'].notna(), :].reset_index(drop=True)\n",
    "print(len(token_OK['label']))\n",
    "token_OK.tail()"
   ]
  },
  {
   "attachments": {},
   "cell_type": "markdown",
   "metadata": {},
   "source": [
    "# 3. 文章向量化模型"
   ]
  },
  {
   "cell_type": "code",
   "execution_count": 242,
   "metadata": {},
   "outputs": [],
   "source": [
    "from gensim.models import word2vec, Word2Vec\n",
    "from gensim.models.doc2vec import Doc2Vec, TaggedDocument\n",
    "import csv\n",
    "import numpy as np\n",
    "from scipy.spatial.distance import cosine"
   ]
  },
  {
   "attachments": {},
   "cell_type": "markdown",
   "metadata": {},
   "source": [
    "- 引入已訓練完成的模型"
   ]
  },
  {
   "cell_type": "code",
   "execution_count": 244,
   "metadata": {},
   "outputs": [],
   "source": [
    "vector_size = 250  # 定義向量維度\n",
    "# vectorize_model = Word2Vec.load('./Word2Vec/models/w2v_x250.model')\n",
    "vectorize_model = Doc2Vec.load('./Word2Vec/D2V_models/d2v_x250.model')"
   ]
  },
  {
   "attachments": {},
   "cell_type": "markdown",
   "metadata": {},
   "source": [
    "- 相關methods"
   ]
  },
  {
   "cell_type": "code",
   "execution_count": null,
   "metadata": {},
   "outputs": [],
   "source": [
    "# vectorize_model.wv.most_similar('晶片', topn=20)\n",
    "# vectorize_model.wv.get_vector('輝達')\n",
    "# similarity = cosine(BVector, UPdocVector)"
   ]
  },
  {
   "attachments": {},
   "cell_type": "markdown",
   "metadata": {},
   "source": [
    "- 文章向量method\n",
    "- for Word2Vec model\n"
   ]
  },
  {
   "cell_type": "code",
   "execution_count": null,
   "metadata": {},
   "outputs": [],
   "source": [
    "# Word2Vec\n",
    "def getDocVec_w2v(model, docterms: list, vec_size: int=250):\n",
    "    docVec = np.zeros(vec_size)\n",
    "    for term in docterms:\n",
    "        try:\n",
    "            docVec += model.wv.get_vector(term)\n",
    "        except:\n",
    "            continue\n",
    "    return docVec/len(docterms)"
   ]
  },
  {
   "attachments": {},
   "cell_type": "markdown",
   "metadata": {},
   "source": [
    "- for Doc2Vec model\n",
    "- alpha是步長，steps迭代步數"
   ]
  },
  {
   "cell_type": "code",
   "execution_count": null,
   "metadata": {},
   "outputs": [],
   "source": [
    "# Doc2Vec\n",
    "def getDocVec_d2v(model, docterms: list, vec_size: int=250):\n",
    "    # docVec = np.zeros(vec_size)\n",
    "    # print(docterms)\n",
    "    docVec = model.infer_vector(doc_words=docterms, alpha=0.003, epochs=500)    \n",
    "    return docVec\n"
   ]
  },
  {
   "attachments": {},
   "cell_type": "markdown",
   "metadata": {},
   "source": [
    "- 轉換為list of str method"
   ]
  },
  {
   "cell_type": "code",
   "execution_count": null,
   "metadata": {},
   "outputs": [],
   "source": [
    "def str2list(input: pd.Series, print_info:bool):\n",
    "    input = input.apply( lambda x: x.split() )\n",
    "    input.apply( lambda x: x.pop(0) )\n",
    "    if print_info:\n",
    "        print(input.head())"
   ]
  },
  {
   "attachments": {},
   "cell_type": "markdown",
   "metadata": {},
   "source": [
    "## 迴歸分析模型"
   ]
  },
  {
   "attachments": {},
   "cell_type": "markdown",
   "metadata": {},
   "source": [
    "- 選用XGBoosting Regressor\n",
    "- tree_method = 'gpu_hist'，啟用GPU加速"
   ]
  },
  {
   "cell_type": "code",
   "execution_count": null,
   "metadata": {},
   "outputs": [],
   "source": [
    "import xgboost as xgb\n",
    "regressor = xgb.XGBRegressor(n_estimators=250, max_depth=8, tree_method = 'gpu_hist', gpu_id=0, learning_rate=0.75, booster='gbtree', predictor='gpu_predictor')"
   ]
  },
  {
   "cell_type": "code",
   "execution_count": null,
   "metadata": {},
   "outputs": [],
   "source": [
    "# regressor.fit(data, labels)\n",
    "# pred = regressor.predict()\n",
    "# regressor.score(x, y)"
   ]
  },
  {
   "attachments": {},
   "cell_type": "markdown",
   "metadata": {},
   "source": [
    "# 4. 訓練集文章"
   ]
  },
  {
   "attachments": {},
   "cell_type": "markdown",
   "metadata": {},
   "source": [
    "- 篩選，設定label條件"
   ]
  },
  {
   "cell_type": "code",
   "execution_count": null,
   "metadata": {},
   "outputs": [
    {
     "name": "stdout",
     "output_type": "stream",
     "text": [
      "430352\n"
     ]
    },
    {
     "data": {
      "text/html": [
       "<div>\n",
       "<style scoped>\n",
       "    .dataframe tbody tr th:only-of-type {\n",
       "        vertical-align: middle;\n",
       "    }\n",
       "\n",
       "    .dataframe tbody tr th {\n",
       "        vertical-align: top;\n",
       "    }\n",
       "\n",
       "    .dataframe thead th {\n",
       "        text-align: right;\n",
       "    }\n",
       "</style>\n",
       "<table border=\"1\" class=\"dataframe\">\n",
       "  <thead>\n",
       "    <tr style=\"text-align: right;\">\n",
       "      <th></th>\n",
       "      <th>post_time</th>\n",
       "      <th>content</th>\n",
       "      <th>label</th>\n",
       "    </tr>\n",
       "  </thead>\n",
       "  <tbody>\n",
       "    <tr>\n",
       "      <th>430347</th>\n",
       "      <td>2023-03-20</td>\n",
       "      <td>舜宇光學 去年 盈利腰斬 降至 人民幣 24億 港股 上市 手機 設備 製造商 舜宇光學 ...</td>\n",
       "      <td>-2.0</td>\n",
       "    </tr>\n",
       "    <tr>\n",
       "      <th>430348</th>\n",
       "      <td>2023-03-20</td>\n",
       "      <td>印月 周年慶 消費 桌菜 客套餐 招牌 烤鴨 半價 優惠 藝術 烤鴨 饗宴 台中 餐飲 市...</td>\n",
       "      <td>-2.0</td>\n",
       "    </tr>\n",
       "    <tr>\n",
       "      <th>430349</th>\n",
       "      <td>2023-03-20</td>\n",
       "      <td>UN 研究 索馬利亞 旱災 造成 135 死亡 索馬利亞衛生部 世界衛生組織 WHO 聯合...</td>\n",
       "      <td>-2.0</td>\n",
       "    </tr>\n",
       "    <tr>\n",
       "      <th>430350</th>\n",
       "      <td>2023-03-20</td>\n",
       "      <td>金融業 危機 升息 可能 暫緩 美股 開盤 漲跌 中央社 紐約 2023年 3月 20日 ...</td>\n",
       "      <td>-2.0</td>\n",
       "    </tr>\n",
       "    <tr>\n",
       "      <th>430351</th>\n",
       "      <td>2023-03-20</td>\n",
       "      <td>看準 普發 6000 現金 商機 台中 福華 客房 全民 普發 6,000 現金 終於 隨...</td>\n",
       "      <td>-2.0</td>\n",
       "    </tr>\n",
       "  </tbody>\n",
       "</table>\n",
       "</div>"
      ],
      "text/plain": [
       "        post_time                                            content  label\n",
       "430347 2023-03-20   舜宇光學 去年 盈利腰斬 降至 人民幣 24億 港股 上市 手機 設備 製造商 舜宇光學 ...   -2.0\n",
       "430348 2023-03-20   印月 周年慶 消費 桌菜 客套餐 招牌 烤鴨 半價 優惠 藝術 烤鴨 饗宴 台中 餐飲 市...   -2.0\n",
       "430349 2023-03-20   UN 研究 索馬利亞 旱災 造成 135 死亡 索馬利亞衛生部 世界衛生組織 WHO 聯合...   -2.0\n",
       "430350 2023-03-20   金融業 危機 升息 可能 暫緩 美股 開盤 漲跌 中央社 紐約 2023年 3月 20日 ...   -2.0\n",
       "430351 2023-03-20   看準 普發 6000 現金 商機 台中 福華 客房 全民 普發 6,000 現金 終於 隨...   -2.0"
      ]
     },
     "metadata": {},
     "output_type": "display_data"
    }
   ],
   "source": [
    "feature_df = token_OK.copy()\n",
    "feature_df = feature_df.loc[abs(feature_df['label']) >= 2.0, :]  # 設定label條件\n",
    "feature_df = feature_df.reset_index(drop=True)\n",
    "print(len(feature_df['label']))\n",
    "feature_df.tail(5)"
   ]
  },
  {
   "attachments": {},
   "cell_type": "markdown",
   "metadata": {},
   "source": [
    "- 設定 2021 5-7月為訓練集"
   ]
  },
  {
   "cell_type": "code",
   "execution_count": null,
   "metadata": {},
   "outputs": [
    {
     "name": "stdout",
     "output_type": "stream",
     "text": [
      "Training period:  2020-05-01 00:00:00 , Ends on:  2020-07-31 00:00:00\n"
     ]
    }
   ],
   "source": [
    "train_start = pd.Timestamp(year=2020, month=5, day=1)\n",
    "train_end = train_start + pd.DateOffset(months=3, days=-1)\n",
    "print(\"Training period: \", train_start, \", Ends on: \", train_end)"
   ]
  },
  {
   "cell_type": "code",
   "execution_count": null,
   "metadata": {},
   "outputs": [
    {
     "data": {
      "text/html": [
       "<div>\n",
       "<style scoped>\n",
       "    .dataframe tbody tr th:only-of-type {\n",
       "        vertical-align: middle;\n",
       "    }\n",
       "\n",
       "    .dataframe tbody tr th {\n",
       "        vertical-align: top;\n",
       "    }\n",
       "\n",
       "    .dataframe thead th {\n",
       "        text-align: right;\n",
       "    }\n",
       "</style>\n",
       "<table border=\"1\" class=\"dataframe\">\n",
       "  <thead>\n",
       "    <tr style=\"text-align: right;\">\n",
       "      <th></th>\n",
       "      <th>post_time</th>\n",
       "      <th>content</th>\n",
       "      <th>label</th>\n",
       "      <th>DocVec</th>\n",
       "    </tr>\n",
       "  </thead>\n",
       "  <tbody>\n",
       "    <tr>\n",
       "      <th>19493</th>\n",
       "      <td>2020-07-28</td>\n",
       "      <td>弊案 貪污 洗錢罪 12 納吉 滿意 上訴 馬來西亞 相納吉 Najib Razak 今天...</td>\n",
       "      <td>3.0</td>\n",
       "      <td>[-0.00036011075, -0.0018687549, 0.0019195958, ...</td>\n",
       "    </tr>\n",
       "    <tr>\n",
       "      <th>19494</th>\n",
       "      <td>2020-07-28</td>\n",
       "      <td>Fed 多數 緊急 貸款 計劃 期限 延至 今年 美國 聯準會 Fed 週二 28 日 宣...</td>\n",
       "      <td>3.0</td>\n",
       "      <td>[0.0015795567, -0.0012143344, -0.0011098108, 8...</td>\n",
       "    </tr>\n",
       "    <tr>\n",
       "      <th>19495</th>\n",
       "      <td>2020-07-28</td>\n",
       "      <td>武漢 肺炎 疫情 衝擊 麥當勞 營收 衰退 30 中央社 芝加哥 2020年 7月 28日...</td>\n",
       "      <td>3.0</td>\n",
       "      <td>[3.792453e-05, 0.0013142963, 0.0014178028, 0.0...</td>\n",
       "    </tr>\n",
       "    <tr>\n",
       "      <th>19496</th>\n",
       "      <td>2020-07-28</td>\n",
       "      <td>A7S III Sony 影片 拍攝 準備 利器 官方 所有 一切 Sony 新機 A7S...</td>\n",
       "      <td>3.0</td>\n",
       "      <td>[-8.2428574e-05, 4.1431427e-05, -0.0012430022,...</td>\n",
       "    </tr>\n",
       "    <tr>\n",
       "      <th>19497</th>\n",
       "      <td>2020-07-28</td>\n",
       "      <td>代工 做到 台積電 客製化 需求 258 製程 中央社 記者 蘇思 台北 2020年 7月...</td>\n",
       "      <td>3.0</td>\n",
       "      <td>[0.0006782772, -0.00014913022, 0.0014591606, -...</td>\n",
       "    </tr>\n",
       "  </tbody>\n",
       "</table>\n",
       "</div>"
      ],
      "text/plain": [
       "       post_time                                            content  label   \n",
       "19493 2020-07-28   弊案 貪污 洗錢罪 12 納吉 滿意 上訴 馬來西亞 相納吉 Najib Razak 今天...    3.0  \\\n",
       "19494 2020-07-28   Fed 多數 緊急 貸款 計劃 期限 延至 今年 美國 聯準會 Fed 週二 28 日 宣...    3.0   \n",
       "19495 2020-07-28   武漢 肺炎 疫情 衝擊 麥當勞 營收 衰退 30 中央社 芝加哥 2020年 7月 28日...    3.0   \n",
       "19496 2020-07-28   A7S III Sony 影片 拍攝 準備 利器 官方 所有 一切 Sony 新機 A7S...    3.0   \n",
       "19497 2020-07-28   代工 做到 台積電 客製化 需求 258 製程 中央社 記者 蘇思 台北 2020年 7月...    3.0   \n",
       "\n",
       "                                                  DocVec  \n",
       "19493  [-0.00036011075, -0.0018687549, 0.0019195958, ...  \n",
       "19494  [0.0015795567, -0.0012143344, -0.0011098108, 8...  \n",
       "19495  [3.792453e-05, 0.0013142963, 0.0014178028, 0.0...  \n",
       "19496  [-8.2428574e-05, 4.1431427e-05, -0.0012430022,...  \n",
       "19497  [0.0006782772, -0.00014913022, 0.0014591606, -...  "
      ]
     },
     "execution_count": 52,
     "metadata": {},
     "output_type": "execute_result"
    }
   ],
   "source": [
    "train_df = feature_df[feature_df['post_time'].between(train_start, train_end)]\n",
    "train_df = train_df.reset_index(drop=True)\n",
    "train_df.tail()"
   ]
  },
  {
   "attachments": {},
   "cell_type": "markdown",
   "metadata": {},
   "source": [
    "- 將Content轉為list of str"
   ]
  },
  {
   "cell_type": "code",
   "execution_count": null,
   "metadata": {},
   "outputs": [
    {
     "name": "stdout",
     "output_type": "stream",
     "text": [
      "0    [新增, 1萬102, 染疫, 單日, 確診, 破萬, 路透莫斯科, 俄羅斯, 疫情危機應變...\n",
      "1    [去年, 12月, 爆發, 疫情, 世衛, 意外, 路透日內瓦, 世界衛生組織, WHO, ...\n",
      "2    [2019年, 病例, 專家, 疫情, 評估, 重要, 路透倫敦, 專家, 今天, 指出, ...\n",
      "3    [14兆, 美元, 美國, 第一, 家庭, 債務, 水平, 新高, 紐約聯邦銀行, New,...\n",
      "4    [Ameritrade, 疫情, 重創, 航空業, 散戶, 投資, 航空股, 儘管, 新冠,...\n",
      "Name: content, dtype: object\n"
     ]
    }
   ],
   "source": [
    "str2list(train_df['content'], True)"
   ]
  },
  {
   "attachments": {},
   "cell_type": "markdown",
   "metadata": {},
   "source": [
    "- 獲得文章向量"
   ]
  },
  {
   "cell_type": "code",
   "execution_count": null,
   "metadata": {},
   "outputs": [
    {
     "data": {
      "text/html": [
       "<div>\n",
       "<style scoped>\n",
       "    .dataframe tbody tr th:only-of-type {\n",
       "        vertical-align: middle;\n",
       "    }\n",
       "\n",
       "    .dataframe tbody tr th {\n",
       "        vertical-align: top;\n",
       "    }\n",
       "\n",
       "    .dataframe thead th {\n",
       "        text-align: right;\n",
       "    }\n",
       "</style>\n",
       "<table border=\"1\" class=\"dataframe\">\n",
       "  <thead>\n",
       "    <tr style=\"text-align: right;\">\n",
       "      <th></th>\n",
       "      <th>post_time</th>\n",
       "      <th>content</th>\n",
       "      <th>label</th>\n",
       "      <th>DocVec</th>\n",
       "    </tr>\n",
       "  </thead>\n",
       "  <tbody>\n",
       "    <tr>\n",
       "      <th>19493</th>\n",
       "      <td>2020-07-28</td>\n",
       "      <td>弊案 貪污 洗錢罪 12 納吉 滿意 上訴 馬來西亞 相納吉 Najib Razak 今天...</td>\n",
       "      <td>3.0</td>\n",
       "      <td>[-0.00036011075, -0.0018687549, 0.0019195958, ...</td>\n",
       "    </tr>\n",
       "    <tr>\n",
       "      <th>19494</th>\n",
       "      <td>2020-07-28</td>\n",
       "      <td>Fed 多數 緊急 貸款 計劃 期限 延至 今年 美國 聯準會 Fed 週二 28 日 宣...</td>\n",
       "      <td>3.0</td>\n",
       "      <td>[0.0015795567, -0.0012143344, -0.0011098108, 8...</td>\n",
       "    </tr>\n",
       "    <tr>\n",
       "      <th>19495</th>\n",
       "      <td>2020-07-28</td>\n",
       "      <td>武漢 肺炎 疫情 衝擊 麥當勞 營收 衰退 30 中央社 芝加哥 2020年 7月 28日...</td>\n",
       "      <td>3.0</td>\n",
       "      <td>[3.792453e-05, 0.0013142963, 0.0014178028, 0.0...</td>\n",
       "    </tr>\n",
       "    <tr>\n",
       "      <th>19496</th>\n",
       "      <td>2020-07-28</td>\n",
       "      <td>A7S III Sony 影片 拍攝 準備 利器 官方 所有 一切 Sony 新機 A7S...</td>\n",
       "      <td>3.0</td>\n",
       "      <td>[-8.2428574e-05, 4.1431427e-05, -0.0012430022,...</td>\n",
       "    </tr>\n",
       "    <tr>\n",
       "      <th>19497</th>\n",
       "      <td>2020-07-28</td>\n",
       "      <td>代工 做到 台積電 客製化 需求 258 製程 中央社 記者 蘇思 台北 2020年 7月...</td>\n",
       "      <td>3.0</td>\n",
       "      <td>[0.0006782772, -0.00014913022, 0.0014591606, -...</td>\n",
       "    </tr>\n",
       "  </tbody>\n",
       "</table>\n",
       "</div>"
      ],
      "text/plain": [
       "       post_time                                            content  label   \n",
       "19493 2020-07-28   弊案 貪污 洗錢罪 12 納吉 滿意 上訴 馬來西亞 相納吉 Najib Razak 今天...    3.0  \\\n",
       "19494 2020-07-28   Fed 多數 緊急 貸款 計劃 期限 延至 今年 美國 聯準會 Fed 週二 28 日 宣...    3.0   \n",
       "19495 2020-07-28   武漢 肺炎 疫情 衝擊 麥當勞 營收 衰退 30 中央社 芝加哥 2020年 7月 28日...    3.0   \n",
       "19496 2020-07-28   A7S III Sony 影片 拍攝 準備 利器 官方 所有 一切 Sony 新機 A7S...    3.0   \n",
       "19497 2020-07-28   代工 做到 台積電 客製化 需求 258 製程 中央社 記者 蘇思 台北 2020年 7月...    3.0   \n",
       "\n",
       "                                                  DocVec  \n",
       "19493  [-0.00036011075, -0.0018687549, 0.0019195958, ...  \n",
       "19494  [0.0015795567, -0.0012143344, -0.0011098108, 8...  \n",
       "19495  [3.792453e-05, 0.0013142963, 0.0014178028, 0.0...  \n",
       "19496  [-8.2428574e-05, 4.1431427e-05, -0.0012430022,...  \n",
       "19497  [0.0006782772, -0.00014913022, 0.0014591606, -...  "
      ]
     },
     "execution_count": 54,
     "metadata": {},
     "output_type": "execute_result"
    }
   ],
   "source": [
    "train_df['DocVec'] = train_df['content'].apply( lambda x: getDocVec_d2v(vectorize_model, [x]) )\n",
    "train_df.tail()"
   ]
  },
  {
   "attachments": {},
   "cell_type": "markdown",
   "metadata": {},
   "source": [
    "# 5. 測試集文章"
   ]
  },
  {
   "attachments": {},
   "cell_type": "markdown",
   "metadata": {},
   "source": [
    "- 設定2021 8月為測試集"
   ]
  },
  {
   "cell_type": "code",
   "execution_count": null,
   "metadata": {},
   "outputs": [
    {
     "name": "stdout",
     "output_type": "stream",
     "text": [
      "Testing period:  2020-08-01 00:00:00  To  2020-08-31 00:00:00\n"
     ]
    }
   ],
   "source": [
    "test_start = train_end + pd.DateOffset(days=1)\n",
    "test_end = test_start + pd.DateOffset(months=1, days=-1)\n",
    "print(\"Testing period: \", test_start, \" To \", test_end)"
   ]
  },
  {
   "attachments": {},
   "cell_type": "markdown",
   "metadata": {},
   "source": [
    "- 要注意測試集挑選的母體和訓練集不同，訓練集有根據Label條件篩選，而測試集則無\n",
    "- 選用token_ok而非feature_df"
   ]
  },
  {
   "cell_type": "code",
   "execution_count": null,
   "metadata": {},
   "outputs": [
    {
     "data": {
      "text/html": [
       "<div>\n",
       "<style scoped>\n",
       "    .dataframe tbody tr th:only-of-type {\n",
       "        vertical-align: middle;\n",
       "    }\n",
       "\n",
       "    .dataframe tbody tr th {\n",
       "        vertical-align: top;\n",
       "    }\n",
       "\n",
       "    .dataframe thead th {\n",
       "        text-align: right;\n",
       "    }\n",
       "</style>\n",
       "<table border=\"1\" class=\"dataframe\">\n",
       "  <thead>\n",
       "    <tr style=\"text-align: right;\">\n",
       "      <th></th>\n",
       "      <th>post_time</th>\n",
       "      <th>content</th>\n",
       "      <th>label</th>\n",
       "      <th>DocVec</th>\n",
       "    </tr>\n",
       "  </thead>\n",
       "  <tbody>\n",
       "    <tr>\n",
       "      <th>9130</th>\n",
       "      <td>2020-08-31</td>\n",
       "      <td>公告 宣德 董事會 決議 修訂 109年度 員工 股權 憑證 發行 辦法 2020年 08...</td>\n",
       "      <td>5.0</td>\n",
       "      <td>[-0.001198469, -0.0015033965, -0.0009969192, 0...</td>\n",
       "    </tr>\n",
       "    <tr>\n",
       "      <th>9131</th>\n",
       "      <td>2020-08-31</td>\n",
       "      <td>公告 桃禧 109年 07 月份 自結 財務 報告 負債 比率 流動 比率 速動 比率 2...</td>\n",
       "      <td>5.0</td>\n",
       "      <td>[-8.5244894e-05, -0.00015519095, -0.001024982,...</td>\n",
       "    </tr>\n",
       "    <tr>\n",
       "      <th>9132</th>\n",
       "      <td>2020-08-31</td>\n",
       "      <td>經濟部 製造業 技術 服務業 紓困 開放 申請 經濟部 公告 受理 紓困 3.0 申請 開...</td>\n",
       "      <td>5.0</td>\n",
       "      <td>[-0.00091107417, 0.0003317206, 0.0017385588, -...</td>\n",
       "    </tr>\n",
       "    <tr>\n",
       "      <th>9133</th>\n",
       "      <td>2020-08-31</td>\n",
       "      <td>豪雨 釀災 印度尼泊爾 過去 至少 41 路透 尼泊爾加德 滿都 印度 阿默達巴德 31 ...</td>\n",
       "      <td>5.0</td>\n",
       "      <td>[-0.0018256475, -0.0001462642, -0.0015029322, ...</td>\n",
       "    </tr>\n",
       "    <tr>\n",
       "      <th>9134</th>\n",
       "      <td>2020-08-31</td>\n",
       "      <td>TikTok 出售案 9月 1日 宣布 得標 週一 31 日 外媒 引述 消息 人士 說法...</td>\n",
       "      <td>5.0</td>\n",
       "      <td>[0.0014001117, 0.00093561603, 0.001481647, -0....</td>\n",
       "    </tr>\n",
       "  </tbody>\n",
       "</table>\n",
       "</div>"
      ],
      "text/plain": [
       "      post_time                                            content  label   \n",
       "9130 2020-08-31   公告 宣德 董事會 決議 修訂 109年度 員工 股權 憑證 發行 辦法 2020年 08...    5.0  \\\n",
       "9131 2020-08-31   公告 桃禧 109年 07 月份 自結 財務 報告 負債 比率 流動 比率 速動 比率 2...    5.0   \n",
       "9132 2020-08-31   經濟部 製造業 技術 服務業 紓困 開放 申請 經濟部 公告 受理 紓困 3.0 申請 開...    5.0   \n",
       "9133 2020-08-31   豪雨 釀災 印度尼泊爾 過去 至少 41 路透 尼泊爾加德 滿都 印度 阿默達巴德 31 ...    5.0   \n",
       "9134 2020-08-31   TikTok 出售案 9月 1日 宣布 得標 週一 31 日 外媒 引述 消息 人士 說法...    5.0   \n",
       "\n",
       "                                                 DocVec  \n",
       "9130  [-0.001198469, -0.0015033965, -0.0009969192, 0...  \n",
       "9131  [-8.5244894e-05, -0.00015519095, -0.001024982,...  \n",
       "9132  [-0.00091107417, 0.0003317206, 0.0017385588, -...  \n",
       "9133  [-0.0018256475, -0.0001462642, -0.0015029322, ...  \n",
       "9134  [0.0014001117, 0.00093561603, 0.001481647, -0....  "
      ]
     },
     "execution_count": 59,
     "metadata": {},
     "output_type": "execute_result"
    }
   ],
   "source": [
    "test_df = token_OK[token_OK['post_time'].between(test_start, test_end)]\n",
    "test_df = test_df.reset_index(drop=True)\n",
    "test_df.tail()"
   ]
  },
  {
   "attachments": {},
   "cell_type": "markdown",
   "metadata": {},
   "source": [
    "- 將content轉為list of str"
   ]
  },
  {
   "cell_type": "code",
   "execution_count": null,
   "metadata": {},
   "outputs": [
    {
     "name": "stdout",
     "output_type": "stream",
     "text": [
      "0    [貿易, 顧問, 微軟, TikTok, 可能, 中國, 撤資, 路透華盛頓, 傳聞, 美國...\n",
      "1    [推手, 修姆, 辭世, 前英相布萊爾, 讚揚, 貢獻, 卓越, 路透倫敦, 北愛爾蘭和平,...\n",
      "2    [iPhone, SE, Google, 殺手級, 新機, Pixel, 4a, 問世, 價...\n",
      "3    [上揚, 中央社, 台北, 2020年, 8月, 4日, 歐股, 上揚, 原因, 經濟, 數...\n",
      "4    [建議, 微軟, 買下, TikTok, 公司, 美政府, 微軟, 週日, 證實, TikT...\n",
      "Name: content, dtype: object\n"
     ]
    }
   ],
   "source": [
    "str2list(test_df['content'], True)"
   ]
  },
  {
   "attachments": {},
   "cell_type": "markdown",
   "metadata": {},
   "source": [
    "- 取得測試集文章向量"
   ]
  },
  {
   "cell_type": "code",
   "execution_count": null,
   "metadata": {},
   "outputs": [
    {
     "data": {
      "text/plain": [
       "0    [-0.13461189286415176, -0.030154600847899365, ...\n",
       "1    [-0.2429211176092356, -0.10827881329181328, -0...\n",
       "2    [0.009816042236427123, 0.13853685692006312, -0...\n",
       "3    [-0.18188376461934538, -0.020597239553231245, ...\n",
       "4    [-0.25123012696054675, 0.025732903348398395, -...\n",
       "Name: DocVec, dtype: object"
      ]
     },
     "execution_count": 109,
     "metadata": {},
     "output_type": "execute_result"
    }
   ],
   "source": [
    "test_df['DocVec'] = test_df['content'].apply( lambda x: getDocVec_d2v(vectorize_model, x) )\n",
    "test_df['DocVec'].head()"
   ]
  },
  {
   "cell_type": "code",
   "execution_count": null,
   "metadata": {},
   "outputs": [
    {
     "data": {
      "text/plain": [
       "(250,)"
      ]
     },
     "execution_count": 60,
     "metadata": {},
     "output_type": "execute_result"
    }
   ],
   "source": [
    "test_df['DocVec'][0].shape"
   ]
  },
  {
   "attachments": {},
   "cell_type": "markdown",
   "metadata": {},
   "source": [
    "# 6. 訓練模型"
   ]
  },
  {
   "attachments": {},
   "cell_type": "markdown",
   "metadata": {},
   "source": [
    "- 將型別轉為float"
   ]
  },
  {
   "cell_type": "code",
   "execution_count": null,
   "metadata": {},
   "outputs": [],
   "source": [
    "train_f = list()\n",
    "for item in train_df['DocVec']:\n",
    "    train_f.append(item.astype(float))\n",
    "# print(train_f[-1])"
   ]
  },
  {
   "cell_type": "code",
   "execution_count": null,
   "metadata": {},
   "outputs": [
    {
     "data": {
      "text/plain": [
       "250"
      ]
     },
     "execution_count": 62,
     "metadata": {},
     "output_type": "execute_result"
    }
   ],
   "source": [
    "len(train_f[0])"
   ]
  },
  {
   "attachments": {},
   "cell_type": "markdown",
   "metadata": {},
   "source": [
    "- Training"
   ]
  },
  {
   "cell_type": "code",
   "execution_count": null,
   "metadata": {},
   "outputs": [
    {
     "name": "stdout",
     "output_type": "stream",
     "text": [
      "Traing Score:  0.9981248116402084\n"
     ]
    }
   ],
   "source": [
    "regressor.fit(train_f, train_df['label'])\n",
    "print(\"Traing Score: \", regressor.score(train_f, train_df['label']))"
   ]
  },
  {
   "attachments": {},
   "cell_type": "markdown",
   "metadata": {},
   "source": [
    "- Testing"
   ]
  },
  {
   "cell_type": "code",
   "execution_count": null,
   "metadata": {},
   "outputs": [
    {
     "data": {
      "text/html": [
       "<div>\n",
       "<style scoped>\n",
       "    .dataframe tbody tr th:only-of-type {\n",
       "        vertical-align: middle;\n",
       "    }\n",
       "\n",
       "    .dataframe tbody tr th {\n",
       "        vertical-align: top;\n",
       "    }\n",
       "\n",
       "    .dataframe thead th {\n",
       "        text-align: right;\n",
       "    }\n",
       "</style>\n",
       "<table border=\"1\" class=\"dataframe\">\n",
       "  <thead>\n",
       "    <tr style=\"text-align: right;\">\n",
       "      <th></th>\n",
       "      <th>post_time</th>\n",
       "      <th>content</th>\n",
       "      <th>label</th>\n",
       "      <th>DocVec</th>\n",
       "      <th>pred_label</th>\n",
       "    </tr>\n",
       "  </thead>\n",
       "  <tbody>\n",
       "    <tr>\n",
       "      <th>9130</th>\n",
       "      <td>2020-08-31</td>\n",
       "      <td>公告 宣德 董事會 決議 修訂 109年度 員工 股權 憑證 發行 辦法 2020年 08...</td>\n",
       "      <td>5.0</td>\n",
       "      <td>[-0.001198469, -0.0015033965, -0.0009969192, 0...</td>\n",
       "      <td>-1.946403</td>\n",
       "    </tr>\n",
       "    <tr>\n",
       "      <th>9131</th>\n",
       "      <td>2020-08-31</td>\n",
       "      <td>公告 桃禧 109年 07 月份 自結 財務 報告 負債 比率 流動 比率 速動 比率 2...</td>\n",
       "      <td>5.0</td>\n",
       "      <td>[-8.5244894e-05, -0.00015519095, -0.001024982,...</td>\n",
       "      <td>-2.183610</td>\n",
       "    </tr>\n",
       "    <tr>\n",
       "      <th>9132</th>\n",
       "      <td>2020-08-31</td>\n",
       "      <td>經濟部 製造業 技術 服務業 紓困 開放 申請 經濟部 公告 受理 紓困 3.0 申請 開...</td>\n",
       "      <td>5.0</td>\n",
       "      <td>[-0.00091107417, 0.0003317206, 0.0017385588, -...</td>\n",
       "      <td>1.121093</td>\n",
       "    </tr>\n",
       "    <tr>\n",
       "      <th>9133</th>\n",
       "      <td>2020-08-31</td>\n",
       "      <td>豪雨 釀災 印度尼泊爾 過去 至少 41 路透 尼泊爾加德 滿都 印度 阿默達巴德 31 ...</td>\n",
       "      <td>5.0</td>\n",
       "      <td>[-0.0018256475, -0.0001462642, -0.0015029322, ...</td>\n",
       "      <td>-0.081396</td>\n",
       "    </tr>\n",
       "    <tr>\n",
       "      <th>9134</th>\n",
       "      <td>2020-08-31</td>\n",
       "      <td>TikTok 出售案 9月 1日 宣布 得標 週一 31 日 外媒 引述 消息 人士 說法...</td>\n",
       "      <td>5.0</td>\n",
       "      <td>[0.0014001117, 0.00093561603, 0.001481647, -0....</td>\n",
       "      <td>-1.158781</td>\n",
       "    </tr>\n",
       "  </tbody>\n",
       "</table>\n",
       "</div>"
      ],
      "text/plain": [
       "      post_time                                            content  label   \n",
       "9130 2020-08-31   公告 宣德 董事會 決議 修訂 109年度 員工 股權 憑證 發行 辦法 2020年 08...    5.0  \\\n",
       "9131 2020-08-31   公告 桃禧 109年 07 月份 自結 財務 報告 負債 比率 流動 比率 速動 比率 2...    5.0   \n",
       "9132 2020-08-31   經濟部 製造業 技術 服務業 紓困 開放 申請 經濟部 公告 受理 紓困 3.0 申請 開...    5.0   \n",
       "9133 2020-08-31   豪雨 釀災 印度尼泊爾 過去 至少 41 路透 尼泊爾加德 滿都 印度 阿默達巴德 31 ...    5.0   \n",
       "9134 2020-08-31   TikTok 出售案 9月 1日 宣布 得標 週一 31 日 外媒 引述 消息 人士 說法...    5.0   \n",
       "\n",
       "                                                 DocVec  pred_label  \n",
       "9130  [-0.001198469, -0.0015033965, -0.0009969192, 0...   -1.946403  \n",
       "9131  [-8.5244894e-05, -0.00015519095, -0.001024982,...   -2.183610  \n",
       "9132  [-0.00091107417, 0.0003317206, 0.0017385588, -...    1.121093  \n",
       "9133  [-0.0018256475, -0.0001462642, -0.0015029322, ...   -0.081396  \n",
       "9134  [0.0014001117, 0.00093561603, 0.001481647, -0....   -1.158781  "
      ]
     },
     "execution_count": 64,
     "metadata": {},
     "output_type": "execute_result"
    }
   ],
   "source": [
    "test_f = list()\n",
    "for item in test_df['DocVec']:\n",
    "    test_f.append(item.astype(float))\n",
    "\n",
    "# regressor.set_param({'predictor': 'gpu_predictor'})\n",
    "test_df['pred_label'] = regressor.predict(test_f)\n",
    "test_df.tail()"
   ]
  },
  {
   "attachments": {},
   "cell_type": "markdown",
   "metadata": {},
   "source": [
    "- 評估準確率\n",
    "- 將同天的predicts平均後，絕對值大於threshold就出手\n",
    "- 出手後，再看是否和label的漲跌相符\n"
   ]
  },
  {
   "cell_type": "code",
   "execution_count": null,
   "metadata": {},
   "outputs": [
    {
     "name": "stdout",
     "output_type": "stream",
     "text": [
      "Action percentage: 94.74%\n",
      "Test accuracy: 77.78%\n"
     ]
    }
   ],
   "source": [
    "go_up, go_down, miss_up, miss_down = 0, 0, 0, 0\n",
    "res_df = test_df.groupby('post_time')['pred_label'].mean()\n",
    "for d in res_df.index:\n",
    "    if abs(res_df[d]) > 0:  # 設定判斷邊際\n",
    "        gt = extracted_time[pd.Timestamp(d)]\n",
    "        if res_df[d] > 0 and gt > 0:\n",
    "            go_up += 1\n",
    "        elif res_df[d] > 0 and gt < 0:\n",
    "            miss_up += 1          \n",
    "        elif res_df[d] < 0 and gt < 0:\n",
    "            go_down += 1\n",
    "        else:\n",
    "            miss_down += 1\n",
    "    \n",
    "print(\"Action percentage: {:.2f}%\".format((go_up+go_down+miss_up+miss_down)*100/(truth_list[7][0]+truth_list[7][1])))\n",
    "print(\"Test accuracy: {:.2f}%\".format((go_up+go_down)*100/(go_up+go_down+miss_up+miss_down)))"
   ]
  },
  {
   "attachments": {},
   "cell_type": "markdown",
   "metadata": {},
   "source": [
    "# 7. 移動式訓練和回測"
   ]
  },
  {
   "attachments": {},
   "cell_type": "markdown",
   "metadata": {},
   "source": [
    "## Preprocessing"
   ]
  },
  {
   "attachments": {},
   "cell_type": "markdown",
   "metadata": {},
   "source": [
    "- 取得所有文章的向量"
   ]
  },
  {
   "cell_type": "code",
   "execution_count": 264,
   "metadata": {},
   "outputs": [
    {
     "data": {
      "text/html": [
       "<div>\n",
       "<style scoped>\n",
       "    .dataframe tbody tr th:only-of-type {\n",
       "        vertical-align: middle;\n",
       "    }\n",
       "\n",
       "    .dataframe tbody tr th {\n",
       "        vertical-align: top;\n",
       "    }\n",
       "\n",
       "    .dataframe thead th {\n",
       "        text-align: right;\n",
       "    }\n",
       "</style>\n",
       "<table border=\"1\" class=\"dataframe\">\n",
       "  <thead>\n",
       "    <tr style=\"text-align: right;\">\n",
       "      <th></th>\n",
       "      <th>post_time</th>\n",
       "      <th>content</th>\n",
       "      <th>DocVec</th>\n",
       "    </tr>\n",
       "  </thead>\n",
       "  <tbody>\n",
       "    <tr>\n",
       "      <th>0</th>\n",
       "      <td>2019-01-01</td>\n",
       "      <td>公告 199808 m HitMaker 警告 主旨 199808 違反 板規 警告 Hi...</td>\n",
       "      <td>[-0.00013194645, -0.0007937528, -0.0012871466,...</td>\n",
       "    </tr>\n",
       "    <tr>\n",
       "      <th>1</th>\n",
       "      <td>2019-01-01</td>\n",
       "      <td>Re 新聞 貿戰 台商 錢匯 海基會 漣漪 效應 小弟 想法 不知可不可行 如果 人民幣 ...</td>\n",
       "      <td>[-0.0016627109, -0.0016541991, 0.00086536, -0....</td>\n",
       "    </tr>\n",
       "    <tr>\n",
       "      <th>2</th>\n",
       "      <td>2019-01-01</td>\n",
       "      <td>Re 新聞 貿易戰 出口 透支 效應 2019 衝擊 中國 經濟 分身 帳號 好像 水桶 ...</td>\n",
       "      <td>[-0.0017949279, 0.00010186887, -0.0011522617, ...</td>\n",
       "    </tr>\n",
       "    <tr>\n",
       "      <th>3</th>\n",
       "      <td>2019-01-01</td>\n",
       "      <td>Re 新聞 陸媒 俄羅斯 聯手 中國 美元化 所以 不要 小看 俄羅斯 險惡奸 俄國 一直...</td>\n",
       "      <td>[-0.0015065967, -0.00036761677, 0.00011783028,...</td>\n",
       "    </tr>\n",
       "    <tr>\n",
       "      <th>4</th>\n",
       "      <td>2019-01-01</td>\n",
       "      <td>標的 伺機 日元 標的 元大 日元 指數 正二 分類 伺機 分析 正文 均線 多頭 排列 ...</td>\n",
       "      <td>[-0.00029767537, -0.00079659367, -6.306803e-05...</td>\n",
       "    </tr>\n",
       "  </tbody>\n",
       "</table>\n",
       "</div>"
      ],
      "text/plain": [
       "    post_time                                            content   \n",
       "0  2019-01-01   公告 199808 m HitMaker 警告 主旨 199808 違反 板規 警告 Hi...  \\\n",
       "1  2019-01-01   Re 新聞 貿戰 台商 錢匯 海基會 漣漪 效應 小弟 想法 不知可不可行 如果 人民幣 ...   \n",
       "2  2019-01-01   Re 新聞 貿易戰 出口 透支 效應 2019 衝擊 中國 經濟 分身 帳號 好像 水桶 ...   \n",
       "3  2019-01-01   Re 新聞 陸媒 俄羅斯 聯手 中國 美元化 所以 不要 小看 俄羅斯 險惡奸 俄國 一直...   \n",
       "4  2019-01-01   標的 伺機 日元 標的 元大 日元 指數 正二 分類 伺機 分析 正文 均線 多頭 排列 ...   \n",
       "\n",
       "                                              DocVec  \n",
       "0  [-0.00013194645, -0.0007937528, -0.0012871466,...  \n",
       "1  [-0.0016627109, -0.0016541991, 0.00086536, -0....  \n",
       "2  [-0.0017949279, 0.00010186887, -0.0011522617, ...  \n",
       "3  [-0.0015065967, -0.00036761677, 0.00011783028,...  \n",
       "4  [-0.00029767537, -0.00079659367, -6.306803e-05...  "
      ]
     },
     "execution_count": 264,
     "metadata": {},
     "output_type": "execute_result"
    }
   ],
   "source": [
    "str2list(token_OK['content'], print_info=False)  # 轉成 list of str\n",
    "token_OK['DocVec'] = token_OK['content'].apply( lambda x: getDocVec_d2v(vectorize_model, [x]) )  # 轉成文件向量\n",
    "token_OK.head()"
   ]
  },
  {
   "attachments": {},
   "cell_type": "markdown",
   "metadata": {},
   "source": [
    "- 儲存文章向量和label，並zip壓縮"
   ]
  },
  {
   "cell_type": "code",
   "execution_count": null,
   "metadata": {},
   "outputs": [],
   "source": [
    "token_OK.to_pickle('./Word2Vec/bbs_vectors.pkl', compression='zip')"
   ]
  },
  {
   "attachments": {},
   "cell_type": "markdown",
   "metadata": {},
   "source": [
    "- 讀取檔案範例"
   ]
  },
  {
   "cell_type": "code",
   "execution_count": 252,
   "metadata": {},
   "outputs": [],
   "source": [
    "token_OK = pd.read_pickle('./Word2Vec/bbs_vectors.pkl', compression='zip')\n",
    "# print(token_testdf.head())\n",
    "# print(type(token_testdf['DocVec'][0]))"
   ]
  },
  {
   "attachments": {},
   "cell_type": "markdown",
   "metadata": {},
   "source": [
    "- 根據條件，篩出特徵組成訓練集"
   ]
  },
  {
   "cell_type": "code",
   "execution_count": 253,
   "metadata": {},
   "outputs": [
    {
     "name": "stdout",
     "output_type": "stream",
     "text": [
      "57949\n"
     ]
    },
    {
     "data": {
      "text/html": [
       "<div>\n",
       "<style scoped>\n",
       "    .dataframe tbody tr th:only-of-type {\n",
       "        vertical-align: middle;\n",
       "    }\n",
       "\n",
       "    .dataframe tbody tr th {\n",
       "        vertical-align: top;\n",
       "    }\n",
       "\n",
       "    .dataframe thead th {\n",
       "        text-align: right;\n",
       "    }\n",
       "</style>\n",
       "<table border=\"1\" class=\"dataframe\">\n",
       "  <thead>\n",
       "    <tr style=\"text-align: right;\">\n",
       "      <th></th>\n",
       "      <th>post_time</th>\n",
       "      <th>content</th>\n",
       "      <th>label</th>\n",
       "      <th>DocVec</th>\n",
       "    </tr>\n",
       "  </thead>\n",
       "  <tbody>\n",
       "    <tr>\n",
       "      <th>57944</th>\n",
       "      <td>2023-03-14</td>\n",
       "      <td>請益 FED 銀行 救市 措施 理解 FED 為了 銀行 流動性 存戶 信心 銀行 優惠 ...</td>\n",
       "      <td>-5.263</td>\n",
       "      <td>[-0.001038089, -0.00026462507, -0.00044146407,...</td>\n",
       "    </tr>\n",
       "    <tr>\n",
       "      <th>57945</th>\n",
       "      <td>2023-03-14</td>\n",
       "      <td>PFE US -- -----------------------------------...</td>\n",
       "      <td>-5.263</td>\n",
       "      <td>[0.0017956982, 0.0012461145, -0.0008633941, 0....</td>\n",
       "    </tr>\n",
       "    <tr>\n",
       "      <th>57946</th>\n",
       "      <td>2023-03-14</td>\n",
       "      <td>標的 2867 三商壽 6000 普發 標的 2867 三商壽 分類 分析 正文 免費 6...</td>\n",
       "      <td>-5.263</td>\n",
       "      <td>[0.001526242, 0.001530878, 0.0013009851, -5.87...</td>\n",
       "    </tr>\n",
       "    <tr>\n",
       "      <th>57947</th>\n",
       "      <td>2023-03-14</td>\n",
       "      <td>新聞 Meta 1萬 關閉 5千 職位 首家 啟動 原文 標題 Meta 1萬 關閉 5千...</td>\n",
       "      <td>-5.263</td>\n",
       "      <td>[4.6353103e-05, 0.0016825645, 0.0011105547, 0....</td>\n",
       "    </tr>\n",
       "    <tr>\n",
       "      <th>57948</th>\n",
       "      <td>2023-03-14</td>\n",
       "      <td>Re FED 銀行 救市 措施 理解 可能 但是 融資 為了 應付 當日 結算用 因為 現...</td>\n",
       "      <td>-5.263</td>\n",
       "      <td>[6.5516e-05, 0.00044836377, 0.0014392905, -0.0...</td>\n",
       "    </tr>\n",
       "  </tbody>\n",
       "</table>\n",
       "</div>"
      ],
      "text/plain": [
       "       post_time                                            content  label   \n",
       "57944 2023-03-14   請益 FED 銀行 救市 措施 理解 FED 為了 銀行 流動性 存戶 信心 銀行 優惠 ... -5.263  \\\n",
       "57945 2023-03-14   PFE US -- -----------------------------------... -5.263   \n",
       "57946 2023-03-14   標的 2867 三商壽 6000 普發 標的 2867 三商壽 分類 分析 正文 免費 6... -5.263   \n",
       "57947 2023-03-14   新聞 Meta 1萬 關閉 5千 職位 首家 啟動 原文 標題 Meta 1萬 關閉 5千... -5.263   \n",
       "57948 2023-03-14   Re FED 銀行 救市 措施 理解 可能 但是 融資 為了 應付 當日 結算用 因為 現... -5.263   \n",
       "\n",
       "                                                  DocVec  \n",
       "57944  [-0.001038089, -0.00026462507, -0.00044146407,...  \n",
       "57945  [0.0017956982, 0.0012461145, -0.0008633941, 0....  \n",
       "57946  [0.001526242, 0.001530878, 0.0013009851, -5.87...  \n",
       "57947  [4.6353103e-05, 0.0016825645, 0.0011105547, 0....  \n",
       "57948  [6.5516e-05, 0.00044836377, 0.0014392905, -0.0...  "
      ]
     },
     "execution_count": 253,
     "metadata": {},
     "output_type": "execute_result"
    }
   ],
   "source": [
    "feature_df = token_OK.copy()\n",
    "feature_df = feature_df.loc[abs(feature_df['label']) >= 3.0, :]  # 設定label條件\n",
    "feature_df = feature_df.reset_index(drop=True)\n",
    "print(len(feature_df['label']))\n",
    "feature_df.tail(5)"
   ]
  },
  {
   "attachments": {},
   "cell_type": "markdown",
   "metadata": {},
   "source": [
    "## 封裝 method"
   ]
  },
  {
   "attachments": {},
   "cell_type": "markdown",
   "metadata": {},
   "source": [
    "### Training\n"
   ]
  },
  {
   "cell_type": "code",
   "execution_count": 254,
   "metadata": {},
   "outputs": [],
   "source": [
    "def movingTrain(model, data, start, end):\n",
    "    train = data[data['post_time'].between(start, end)]\n",
    "    train = train.reset_index(drop=True)\n",
    "    # print(start, end)\n",
    "    \n",
    "    trainf = list()\n",
    "    if len(train['DocVec']) <= 0:  # 避掉train set為空\n",
    "        return False\n",
    "        \n",
    "    for item in train['DocVec']:\n",
    "        trainf.append(item.astype(float))\n",
    "    \n",
    "    model.fit(trainf, train['label'])\n",
    "    score = model.score(trainf, train['label'])\n",
    "    print(\"Traing Score: {:.4f}\".format(score) )\n",
    "    \n",
    "    return score > 0"
   ]
  },
  {
   "attachments": {},
   "cell_type": "markdown",
   "metadata": {},
   "source": [
    "### Testing"
   ]
  },
  {
   "cell_type": "code",
   "execution_count": 255,
   "metadata": {},
   "outputs": [],
   "source": [
    "def movingTest(model, data, start, end, label_dict, threshold) -> list:\n",
    "    go_up, go_down, miss_up, miss_down = 0, 0, 0, 0\n",
    "    \n",
    "    test = data[data['post_time'].between(start, end)]\n",
    "    test = test.reset_index(drop=True)\n",
    "    testf = list()\n",
    "    if len(test['DocVec']) <= 0: # 避掉test set為空\n",
    "        return [start, go_up, go_down, miss_up, miss_down]\n",
    "    for item in test['DocVec']:\n",
    "        testf.append(item.astype(float))\n",
    "    \n",
    "    # model.set_param({'predictor': 'gpu_predictor'})  # Inferring on GPU\n",
    "    test['pred_label'] = model.predict(testf)\n",
    "    \n",
    "    res_df = test.groupby('post_time')['pred_label'].mean()\n",
    "    # print(res_df)\n",
    "    for d in res_df.index:\n",
    "        if abs(res_df[d]) > threshold:  # 設定判斷邊際\n",
    "            if d in label_dict.keys():\n",
    "                gt = label_dict[pd.Timestamp(d)]\n",
    "            else: \n",
    "                gt = 0\n",
    "                \n",
    "            if res_df[d] > 0 and gt > 0:\n",
    "                go_up += 1\n",
    "            elif res_df[d] > 0 and gt < 0:\n",
    "                miss_up += 1          \n",
    "            elif res_df[d] < 0 and gt < 0:\n",
    "                go_down += 1\n",
    "            else:\n",
    "                miss_down += 1\n",
    "                \n",
    "    return [start, go_up, go_down, miss_up, miss_down]"
   ]
  },
  {
   "attachments": {},
   "cell_type": "markdown",
   "metadata": {},
   "source": [
    "## 主程式"
   ]
  },
  {
   "cell_type": "code",
   "execution_count": 256,
   "metadata": {},
   "outputs": [
    {
     "name": "stderr",
     "output_type": "stream",
     "text": [
      "  3%|▎         | 1/36 [00:01<01:07,  1.94s/it]"
     ]
    },
    {
     "name": "stdout",
     "output_type": "stream",
     "text": [
      "Traing Score: 1.0000\n"
     ]
    },
    {
     "name": "stderr",
     "output_type": "stream",
     "text": [
      "  6%|▌         | 2/36 [00:03<01:02,  1.83s/it]"
     ]
    },
    {
     "name": "stdout",
     "output_type": "stream",
     "text": [
      "Traing Score: 1.0000\n"
     ]
    },
    {
     "name": "stderr",
     "output_type": "stream",
     "text": [
      "  8%|▊         | 3/36 [00:05<00:59,  1.81s/it]"
     ]
    },
    {
     "name": "stdout",
     "output_type": "stream",
     "text": [
      "Traing Score: 1.0000\n"
     ]
    },
    {
     "name": "stderr",
     "output_type": "stream",
     "text": [
      " 11%|█         | 4/36 [00:06<00:52,  1.63s/it]"
     ]
    },
    {
     "name": "stdout",
     "output_type": "stream",
     "text": [
      "Traing Score: 1.0000\n"
     ]
    },
    {
     "name": "stderr",
     "output_type": "stream",
     "text": [
      " 14%|█▍        | 5/36 [00:07<00:44,  1.45s/it]"
     ]
    },
    {
     "name": "stdout",
     "output_type": "stream",
     "text": [
      "Traing Score: 1.0000\n"
     ]
    },
    {
     "name": "stderr",
     "output_type": "stream",
     "text": [
      " 17%|█▋        | 6/36 [00:09<00:42,  1.42s/it]"
     ]
    },
    {
     "name": "stdout",
     "output_type": "stream",
     "text": [
      "Traing Score: 1.0000\n"
     ]
    },
    {
     "name": "stderr",
     "output_type": "stream",
     "text": [
      " 19%|█▉        | 7/36 [00:10<00:41,  1.43s/it]"
     ]
    },
    {
     "name": "stdout",
     "output_type": "stream",
     "text": [
      "Traing Score: 1.0000\n"
     ]
    },
    {
     "name": "stderr",
     "output_type": "stream",
     "text": [
      " 22%|██▏       | 8/36 [00:12<00:40,  1.45s/it]"
     ]
    },
    {
     "name": "stdout",
     "output_type": "stream",
     "text": [
      "Traing Score: 1.0000\n"
     ]
    },
    {
     "name": "stderr",
     "output_type": "stream",
     "text": [
      " 25%|██▌       | 9/36 [00:13<00:38,  1.43s/it]"
     ]
    },
    {
     "name": "stdout",
     "output_type": "stream",
     "text": [
      "Traing Score: 1.0000\n"
     ]
    },
    {
     "name": "stderr",
     "output_type": "stream",
     "text": [
      " 28%|██▊       | 10/36 [00:15<00:37,  1.43s/it]"
     ]
    },
    {
     "name": "stdout",
     "output_type": "stream",
     "text": [
      "Traing Score: 1.0000\n"
     ]
    },
    {
     "name": "stderr",
     "output_type": "stream",
     "text": [
      " 31%|███       | 11/36 [00:17<00:40,  1.61s/it]"
     ]
    },
    {
     "name": "stdout",
     "output_type": "stream",
     "text": [
      "Traing Score: 1.0000\n"
     ]
    },
    {
     "name": "stderr",
     "output_type": "stream",
     "text": [
      " 33%|███▎      | 12/36 [00:19<00:41,  1.71s/it]"
     ]
    },
    {
     "name": "stdout",
     "output_type": "stream",
     "text": [
      "Traing Score: 1.0000\n"
     ]
    },
    {
     "name": "stderr",
     "output_type": "stream",
     "text": [
      " 36%|███▌      | 13/36 [00:21<00:41,  1.80s/it]"
     ]
    },
    {
     "name": "stdout",
     "output_type": "stream",
     "text": [
      "Traing Score: 1.0000\n"
     ]
    },
    {
     "name": "stderr",
     "output_type": "stream",
     "text": [
      " 39%|███▉      | 14/36 [00:22<00:39,  1.81s/it]"
     ]
    },
    {
     "name": "stdout",
     "output_type": "stream",
     "text": [
      "Traing Score: 1.0000\n"
     ]
    },
    {
     "name": "stderr",
     "output_type": "stream",
     "text": [
      " 42%|████▏     | 15/36 [00:25<00:44,  2.12s/it]"
     ]
    },
    {
     "name": "stdout",
     "output_type": "stream",
     "text": [
      "Traing Score: 1.0000\n"
     ]
    },
    {
     "name": "stderr",
     "output_type": "stream",
     "text": [
      " 44%|████▍     | 16/36 [00:28<00:48,  2.42s/it]"
     ]
    },
    {
     "name": "stdout",
     "output_type": "stream",
     "text": [
      "Traing Score: 1.0000\n"
     ]
    },
    {
     "name": "stderr",
     "output_type": "stream",
     "text": [
      " 47%|████▋     | 17/36 [00:32<00:53,  2.83s/it]"
     ]
    },
    {
     "name": "stdout",
     "output_type": "stream",
     "text": [
      "Traing Score: 1.0000\n"
     ]
    },
    {
     "name": "stderr",
     "output_type": "stream",
     "text": [
      " 50%|█████     | 18/36 [00:35<00:52,  2.92s/it]"
     ]
    },
    {
     "name": "stdout",
     "output_type": "stream",
     "text": [
      "Traing Score: 1.0000\n"
     ]
    },
    {
     "name": "stderr",
     "output_type": "stream",
     "text": [
      " 53%|█████▎    | 19/36 [00:38<00:49,  2.91s/it]"
     ]
    },
    {
     "name": "stdout",
     "output_type": "stream",
     "text": [
      "Traing Score: 0.9999\n"
     ]
    },
    {
     "name": "stderr",
     "output_type": "stream",
     "text": [
      " 56%|█████▌    | 20/36 [00:40<00:42,  2.64s/it]"
     ]
    },
    {
     "name": "stdout",
     "output_type": "stream",
     "text": [
      "Traing Score: 0.9998\n"
     ]
    },
    {
     "name": "stderr",
     "output_type": "stream",
     "text": [
      " 58%|█████▊    | 21/36 [00:42<00:36,  2.44s/it]"
     ]
    },
    {
     "name": "stdout",
     "output_type": "stream",
     "text": [
      "Traing Score: 0.9998\n"
     ]
    },
    {
     "name": "stderr",
     "output_type": "stream",
     "text": [
      " 61%|██████    | 22/36 [00:44<00:31,  2.25s/it]"
     ]
    },
    {
     "name": "stdout",
     "output_type": "stream",
     "text": [
      "Traing Score: 1.0000\n"
     ]
    },
    {
     "name": "stderr",
     "output_type": "stream",
     "text": [
      " 64%|██████▍   | 23/36 [00:46<00:27,  2.09s/it]"
     ]
    },
    {
     "name": "stdout",
     "output_type": "stream",
     "text": [
      "Traing Score: 1.0000\n"
     ]
    },
    {
     "name": "stderr",
     "output_type": "stream",
     "text": [
      " 67%|██████▋   | 24/36 [00:47<00:23,  1.92s/it]"
     ]
    },
    {
     "name": "stdout",
     "output_type": "stream",
     "text": [
      "Traing Score: 1.0000\n"
     ]
    },
    {
     "name": "stderr",
     "output_type": "stream",
     "text": [
      " 69%|██████▉   | 25/36 [00:49<00:20,  1.83s/it]"
     ]
    },
    {
     "name": "stdout",
     "output_type": "stream",
     "text": [
      "Traing Score: 1.0000\n"
     ]
    },
    {
     "name": "stderr",
     "output_type": "stream",
     "text": [
      " 72%|███████▏  | 26/36 [00:50<00:17,  1.73s/it]"
     ]
    },
    {
     "name": "stdout",
     "output_type": "stream",
     "text": [
      "Traing Score: 1.0000\n"
     ]
    },
    {
     "name": "stderr",
     "output_type": "stream",
     "text": [
      " 75%|███████▌  | 27/36 [00:52<00:15,  1.68s/it]"
     ]
    },
    {
     "name": "stdout",
     "output_type": "stream",
     "text": [
      "Traing Score: 1.0000\n"
     ]
    },
    {
     "name": "stderr",
     "output_type": "stream",
     "text": [
      " 78%|███████▊  | 28/36 [00:54<00:13,  1.68s/it]"
     ]
    },
    {
     "name": "stdout",
     "output_type": "stream",
     "text": [
      "Traing Score: 1.0000\n"
     ]
    },
    {
     "name": "stderr",
     "output_type": "stream",
     "text": [
      " 81%|████████  | 29/36 [00:55<00:11,  1.68s/it]"
     ]
    },
    {
     "name": "stdout",
     "output_type": "stream",
     "text": [
      "Traing Score: 1.0000\n"
     ]
    },
    {
     "name": "stderr",
     "output_type": "stream",
     "text": [
      " 83%|████████▎ | 30/36 [00:57<00:10,  1.69s/it]"
     ]
    },
    {
     "name": "stdout",
     "output_type": "stream",
     "text": [
      "Traing Score: 1.0000\n"
     ]
    },
    {
     "name": "stderr",
     "output_type": "stream",
     "text": [
      " 86%|████████▌ | 31/36 [00:58<00:08,  1.65s/it]"
     ]
    },
    {
     "name": "stdout",
     "output_type": "stream",
     "text": [
      "Traing Score: 1.0000\n"
     ]
    },
    {
     "name": "stderr",
     "output_type": "stream",
     "text": [
      " 89%|████████▉ | 32/36 [01:00<00:06,  1.61s/it]"
     ]
    },
    {
     "name": "stdout",
     "output_type": "stream",
     "text": [
      "Traing Score: 1.0000\n"
     ]
    },
    {
     "name": "stderr",
     "output_type": "stream",
     "text": [
      " 92%|█████████▏| 33/36 [01:01<00:04,  1.52s/it]"
     ]
    },
    {
     "name": "stdout",
     "output_type": "stream",
     "text": [
      "Traing Score: 1.0000\n"
     ]
    },
    {
     "name": "stderr",
     "output_type": "stream",
     "text": [
      " 94%|█████████▍| 34/36 [01:02<00:02,  1.41s/it]"
     ]
    },
    {
     "name": "stdout",
     "output_type": "stream",
     "text": [
      "Traing Score: 1.0000\n"
     ]
    },
    {
     "name": "stderr",
     "output_type": "stream",
     "text": [
      " 97%|█████████▋| 35/36 [01:03<00:01,  1.27s/it]"
     ]
    },
    {
     "name": "stdout",
     "output_type": "stream",
     "text": [
      "Traing Score: 1.0000\n"
     ]
    },
    {
     "name": "stderr",
     "output_type": "stream",
     "text": [
      "100%|██████████| 36/36 [01:04<00:00,  1.80s/it]"
     ]
    },
    {
     "name": "stdout",
     "output_type": "stream",
     "text": [
      "Traing Score: 1.0000\n"
     ]
    },
    {
     "name": "stderr",
     "output_type": "stream",
     "text": [
      "\n"
     ]
    }
   ],
   "source": [
    "res_record = list()\n",
    "for mon in trange(36):\n",
    "    # 設定時間範圍\n",
    "    train_start = pd.Timestamp(year=2020, month=1, day=1) + pd.DateOffset(months=mon)\n",
    "    train_end = train_start + pd.DateOffset(months=3, days=-1)\n",
    "    test_start = train_end + pd.DateOffset(days=1)\n",
    "    test_end =  test_start + pd.DateOffset(months=1, days=-1)\n",
    "    \n",
    "    if movingTrain(regressor, feature_df, train_start, train_end):\n",
    "        res_record.append(movingTest(regressor, feature_df, test_start, test_end, extracted_time, 0.5))  \n",
    "    "
   ]
  },
  {
   "attachments": {},
   "cell_type": "markdown",
   "metadata": {},
   "source": [
    "- 印出測試結果"
   ]
  },
  {
   "cell_type": "code",
   "execution_count": 257,
   "metadata": {},
   "outputs": [
    {
     "name": "stdout",
     "output_type": "stream",
     "text": [
      "36\n",
      "[[Timestamp('2020-04-01 00:00:00'), 0, 3, 0, 8], [Timestamp('2020-05-01 00:00:00'), 0, 1, 0, 4], [Timestamp('2020-06-01 00:00:00'), 0, 5, 0, 2], [Timestamp('2020-07-01 00:00:00'), 1, 0, 3, 0], [Timestamp('2020-08-01 00:00:00'), 0, 0, 0, 14], [Timestamp('2020-09-01 00:00:00'), 6, 0, 7, 0], [Timestamp('2020-10-01 00:00:00'), 8, 0, 2, 0], [Timestamp('2020-11-01 00:00:00'), 13, 0, 1, 0], [Timestamp('2020-12-01 00:00:00'), 14, 0, 1, 0], [Timestamp('2021-01-01 00:00:00'), 4, 0, 13, 0], [Timestamp('2021-02-01 00:00:00'), 5, 0, 1, 0], [Timestamp('2021-03-01 00:00:00'), 12, 0, 1, 0], [Timestamp('2021-04-01 00:00:00'), 12, 0, 0, 1], [Timestamp('2021-05-01 00:00:00'), 13, 0, 5, 0], [Timestamp('2021-06-01 00:00:00'), 14, 0, 0, 0], [Timestamp('2021-07-01 00:00:00'), 7, 0, 12, 0], [Timestamp('2021-08-01 00:00:00'), 5, 0, 8, 0], [Timestamp('2021-09-01 00:00:00'), 6, 0, 8, 0], [Timestamp('2021-10-01 00:00:00'), 0, 5, 0, 8], [Timestamp('2021-11-01 00:00:00'), 0, 3, 0, 12], [Timestamp('2021-12-01 00:00:00'), 6, 0, 1, 4], [Timestamp('2022-01-01 00:00:00'), 3, 0, 8, 0], [Timestamp('2022-02-01 00:00:00'), 7, 0, 1, 0], [Timestamp('2022-03-01 00:00:00'), 4, 0, 8, 0], [Timestamp('2022-04-01 00:00:00'), 6, 0, 2, 3], [Timestamp('2022-05-01 00:00:00'), 4, 0, 5, 0], [Timestamp('2022-06-01 00:00:00'), 1, 10, 4, 3], [Timestamp('2022-07-01 00:00:00'), 0, 1, 0, 7], [Timestamp('2022-08-01 00:00:00'), 0, 10, 0, 4], [Timestamp('2022-09-01 00:00:00'), 0, 9, 0, 3], [Timestamp('2022-10-01 00:00:00'), 1, 3, 4, 2], [Timestamp('2022-11-01 00:00:00'), 0, 1, 0, 8], [Timestamp('2022-12-01 00:00:00'), 0, 6, 0, 4], [Timestamp('2023-01-01 00:00:00'), 2, 1, 0, 0], [Timestamp('2023-02-01 00:00:00'), 5, 0, 3, 0], [Timestamp('2023-03-01 00:00:00'), 4, 0, 2, 0]]\n"
     ]
    }
   ],
   "source": [
    "print(len(res_record))\n",
    "print(res_record)"
   ]
  },
  {
   "cell_type": "code",
   "execution_count": 258,
   "metadata": {},
   "outputs": [
    {
     "name": "stdout",
     "output_type": "stream",
     "text": [
      "2020年4月測試結果: 出手率 55.00%, 準確率 27.27%\n",
      "2020年5月測試結果: 出手率 26.32%, 準確率 20.00%\n",
      "2020年6月測試結果: 出手率 38.89%, 準確率 71.43%\n",
      "2020年7月測試結果: 出手率 18.18%, 準確率 25.00%\n",
      "2020年8月測試結果: 出手率 70.00%, 準確率 0.00%\n",
      "2020年9月測試結果: 出手率 59.09%, 準確率 46.15%\n",
      "2020年10月測試結果: 出手率 52.63%, 準確率 80.00%\n",
      "2020年11月測試結果: 出手率 66.67%, 準確率 92.86%\n",
      "2020年12月測試結果: 出手率 65.22%, 準確率 93.33%\n",
      "2021年1月測試結果: 出手率 85.00%, 準確率 23.53%\n",
      "2021年2月測試結果: 出手率 46.15%, 準確率 83.33%\n",
      "2021年3月測試結果: 出手率 59.09%, 準確率 92.31%\n",
      "2021年4月測試結果: 出手率 68.42%, 準確率 92.31%\n",
      "2021年5月測試結果: 出手率 85.71%, 準確率 72.22%\n",
      "2021年6月測試結果: 出手率 73.68%, 準確率 100.00%\n",
      "2021年7月測試結果: 出手率 86.36%, 準確率 36.84%\n",
      "2021年8月測試結果: 出手率 59.09%, 準確率 38.46%\n",
      "2021年9月測試結果: 出手率 70.00%, 準確率 42.86%\n",
      "2021年10月測試結果: 出手率 68.42%, 準確率 38.46%\n",
      "2021年11月測試結果: 出手率 75.00%, 準確率 20.00%\n",
      "2021年12月測試結果: 出手率 52.38%, 準確率 54.55%\n",
      "2022年1月測試結果: 出手率 64.71%, 準確率 27.27%\n",
      "2022年2月測試結果: 出手率 57.14%, 準確率 87.50%\n",
      "2022年3月測試結果: 出手率 52.17%, 準確率 33.33%\n",
      "2022年4月測試結果: 出手率 57.89%, 準確率 54.55%\n",
      "2022年5月測試結果: 出手率 45.00%, 準確率 44.44%\n",
      "2022年6月測試結果: 出手率 90.00%, 準確率 61.11%\n",
      "2022年7月測試結果: 出手率 38.10%, 準確率 12.50%\n",
      "2022年8月測試結果: 出手率 60.87%, 準確率 71.43%\n",
      "2022年9月測試結果: 出手率 75.00%, 準確率 75.00%\n",
      "2022年10月測試結果: 出手率 50.00%, 準確率 40.00%\n",
      "2022年11月測試結果: 出手率 42.86%, 準確率 11.11%\n",
      "2022年12月測試結果: 出手率 47.62%, 準確率 60.00%\n",
      "2023年1月測試結果: 出手率 25.00%, 準確率 100.00%\n",
      "2023年2月測試結果: 出手率 44.44%, 準確率 62.50%\n",
      "2023年3月測試結果: 出手率 46.15%, 準確率 66.67%\n"
     ]
    }
   ],
   "source": [
    "m = 2\n",
    "months = []\n",
    "go_list, acc_list = [], []\n",
    "for result in res_record:\n",
    "    m += 1\n",
    "    if sum(result[1:5]) == 0:\n",
    "        go = 0\n",
    "        acc = 0\n",
    "    else:\n",
    "        # print(sum(result[1:5]), truth_list[m])\n",
    "        go = sum(result[1:5]) / sum(truth_list[m])\n",
    "        acc = sum(result[1:3]) / sum(result[1:5])\n",
    "        acc_list.append(acc)\n",
    "    \n",
    "    months.append(f'{result[0].year}/{result[0].month}')\n",
    "    go_list.append(go)\n",
    "    \n",
    "    \n",
    "    print('{:d}年{:d}月測試結果: 出手率 {:.2f}%, 準確率 {:.2f}%'.format(result[0].year, result[0].month, go*100, acc*100))"
   ]
  },
  {
   "cell_type": "code",
   "execution_count": 259,
   "metadata": {},
   "outputs": [
    {
     "name": "stdout",
     "output_type": "stream",
     "text": [
      "平均出手率: 57.73%\n",
      "平均準確率: 54.40%\n"
     ]
    }
   ],
   "source": [
    "# print(len(go_list), len(acc_list))\n",
    "print('平均出手率: {:.2f}%'.format(100*sum(go_list)/len(go_list)))\n",
    "print('平均準確率: {:.2f}%'.format(100*sum(acc_list)/len(acc_list)))"
   ]
  },
  {
   "attachments": {},
   "cell_type": "markdown",
   "metadata": {},
   "source": [
    "- 保存結果"
   ]
  },
  {
   "cell_type": "code",
   "execution_count": 260,
   "metadata": {},
   "outputs": [],
   "source": [
    "f = open('./results/results.csv', 'w', newline='', encoding='utf-8')\n",
    "w = csv.writer(f, delimiter=',')\n",
    "for row in res_record:\n",
    "    w.writerow(row)\n",
    "\n",
    "f.close()"
   ]
  },
  {
   "attachments": {},
   "cell_type": "markdown",
   "metadata": {},
   "source": [
    "### 視覺化結果"
   ]
  },
  {
   "cell_type": "code",
   "execution_count": 261,
   "metadata": {},
   "outputs": [],
   "source": [
    "from matplotlib.font_manager import FontProperties  # 引入中文\n",
    "import matplotlib.pyplot as plt\n",
    "# 中文顯示設定\n",
    "plt.rcParams['font.sans-serif'] = ['Microsoft JhengHei'] \n",
    "plt.rcParams['axes.unicode_minus'] = False"
   ]
  },
  {
   "attachments": {},
   "cell_type": "markdown",
   "metadata": {},
   "source": [
    "- 匯出資料至matplotlib"
   ]
  },
  {
   "cell_type": "code",
   "execution_count": 262,
   "metadata": {},
   "outputs": [
    {
     "data": {
      "image/png": "[encoded data removed]",
      "text/plain": [
       "<Figure size 640x480 with 1 Axes>"
      ]
     },
     "metadata": {},
     "output_type": "display_data"
    }
   ],
   "source": [
    "l1 = plt.plot(months, go_list, label=\"出手率\")\n",
    "plt.setp(l1, marker='o')\n",
    "l2 = plt.plot(months, acc_list, label=\"準確率\")\n",
    "plt.setp(l2, marker='o')\n",
    "\n",
    "xloc = np.arange(0, len(months), 3)\n",
    "plt.xticks(rotation=60)\n",
    "plt.title(\"移動式回測結果\")\n",
    "plt.xlabel(\"月份\")\n",
    "plt.ylabel(\"Percentage\")\n",
    "plt.legend(loc='best')\n",
    "\n",
    "plt.show()"
   ]
  }
 ],
 "metadata": {
  "kernelspec": {
   "display_name": "HW2-PfLazmZH",
   "language": "python",
   "name": "python3"
  },
  "language_info": {
   "codemirror_mode": {
    "name": "ipython",
    "version": 3
   },
   "file_extension": ".py",
   "mimetype": "text/x-python",
   "name": "python",
   "nbconvert_exporter": "python",
   "pygments_lexer": "ipython3",
   "version": "3.10.10"
  },
  "orig_nbformat": 4
 },
 "nbformat": 4,
 "nbformat_minor": 2
}
